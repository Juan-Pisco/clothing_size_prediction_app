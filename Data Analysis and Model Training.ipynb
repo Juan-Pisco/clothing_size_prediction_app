{
 "cells": [
  {
   "cell_type": "markdown",
   "id": "trying-secondary",
   "metadata": {},
   "source": [
    "# Clothing size predictor data and model's creation\n",
    "Through this notebook, the dataset gathered from [this Kaggle post](https://www.kaggle.com/tourist55/clothessizeprediction) is analyzed and used for training a Pytorch nerual network which predicts the size that fits the best for a person according to his weight, age and height."
   ]
  },
  {
   "cell_type": "markdown",
   "id": "comfortable-wichita",
   "metadata": {},
   "source": [
    "## Dependencies\n",
    "Dependencies used and their job were:\n",
    "* pandas: Used for data analysis and wrangling.\n",
    "* numpy: Data treatment.\n",
    "* matplotlib: Graphic analysis.\n",
    "* sklearn: Train-Test split of the dataset and R2 metric.\n",
    "* torch: Framework for the neural network's training process.\n",
    "* time: Calculating training time."
   ]
  },
  {
   "cell_type": "code",
   "execution_count": 1,
   "id": "adaptive-integer",
   "metadata": {},
   "outputs": [],
   "source": [
    "import pandas as pd\n",
    "import numpy as np\n",
    "import matplotlib.pyplot as plt\n",
    "from sklearn.model_selection import train_test_split\n",
    "import torch\n",
    "from torch import nn, optim\n",
    "from torchsummary import summary\n",
    "import time\n",
    "from sklearn.metrics import r2_score"
   ]
  },
  {
   "cell_type": "markdown",
   "id": "conservative-virgin",
   "metadata": {},
   "source": [
    "## Data treatment and analysis\n",
    "\n",
    "The \"final_test.csv\" dataset has weight, age, height and clothing size as columns, in which the first 3 were selected for training the model. Size column was converted to values from 0-6 as Strings cannot be outputed by a NN (Creating one-hot encoding | dummy variables for the size column could be another way to solve this problem). All weight, age and height datapoints were normalized from 0 to 1 according to the maximum and minimum values in each set of column values."
   ]
  },
  {
   "cell_type": "code",
   "execution_count": 2,
   "id": "suffering-juice",
   "metadata": {
    "scrolled": false
   },
   "outputs": [
    {
     "name": "stdout",
     "output_type": "stream",
     "text": [
      "Number of datapoints in the whole dataset are:  119734\n",
      "Number of columns in the dataset are:  4\n"
     ]
    },
    {
     "data": {
      "text/html": [
       "<div>\n",
       "<style scoped>\n",
       "    .dataframe tbody tr th:only-of-type {\n",
       "        vertical-align: middle;\n",
       "    }\n",
       "\n",
       "    .dataframe tbody tr th {\n",
       "        vertical-align: top;\n",
       "    }\n",
       "\n",
       "    .dataframe thead th {\n",
       "        text-align: right;\n",
       "    }\n",
       "</style>\n",
       "<table border=\"1\" class=\"dataframe\">\n",
       "  <thead>\n",
       "    <tr style=\"text-align: right;\">\n",
       "      <th></th>\n",
       "      <th>weight</th>\n",
       "      <th>age</th>\n",
       "      <th>height</th>\n",
       "      <th>size</th>\n",
       "    </tr>\n",
       "  </thead>\n",
       "  <tbody>\n",
       "    <tr>\n",
       "      <th>0</th>\n",
       "      <td>62</td>\n",
       "      <td>28.0</td>\n",
       "      <td>172.72</td>\n",
       "      <td>XL</td>\n",
       "    </tr>\n",
       "    <tr>\n",
       "      <th>1</th>\n",
       "      <td>59</td>\n",
       "      <td>36.0</td>\n",
       "      <td>167.64</td>\n",
       "      <td>L</td>\n",
       "    </tr>\n",
       "    <tr>\n",
       "      <th>2</th>\n",
       "      <td>61</td>\n",
       "      <td>34.0</td>\n",
       "      <td>165.10</td>\n",
       "      <td>M</td>\n",
       "    </tr>\n",
       "    <tr>\n",
       "      <th>3</th>\n",
       "      <td>65</td>\n",
       "      <td>27.0</td>\n",
       "      <td>175.26</td>\n",
       "      <td>L</td>\n",
       "    </tr>\n",
       "    <tr>\n",
       "      <th>4</th>\n",
       "      <td>62</td>\n",
       "      <td>45.0</td>\n",
       "      <td>172.72</td>\n",
       "      <td>M</td>\n",
       "    </tr>\n",
       "  </tbody>\n",
       "</table>\n",
       "</div>"
      ],
      "text/plain": [
       "   weight   age  height size\n",
       "0      62  28.0  172.72   XL\n",
       "1      59  36.0  167.64    L\n",
       "2      61  34.0  165.10    M\n",
       "3      65  27.0  175.26    L\n",
       "4      62  45.0  172.72    M"
      ]
     },
     "execution_count": 2,
     "metadata": {},
     "output_type": "execute_result"
    }
   ],
   "source": [
    "# READING DATA\n",
    "\n",
    "data = pd.read_csv('final_test.csv')\n",
    "print('The number of datapoints in the whole dataset is: ',data.shape[0])\n",
    "print('The number of columns in the dataset is: ', data.shape[1])\n",
    "\n",
    "# DATA PREVIEW\n",
    "\n",
    "data.head()"
   ]
  },
  {
   "cell_type": "markdown",
   "id": "existing-preview",
   "metadata": {},
   "source": [
    "### Comparison between Size (target) and all the indipendent variables"
   ]
  },
  {
   "cell_type": "code",
   "execution_count": 3,
   "id": "contained-davis",
   "metadata": {},
   "outputs": [
    {
     "data": {
      "image/png": "[encoded data removed]",
      "text/plain": [
       "<Figure size 432x288 with 1 Axes>"
      ]
     },
     "metadata": {
      "needs_background": "light"
     },
     "output_type": "display_data"
    }
   ],
   "source": [
    "plt.bar(data.groupby('size').mean()['age'].index, data.groupby('size').mean()['age'].values)\n",
    "plt.title('size vs. age');\n",
    "plt.savefig('Size-Age.png', dpi=200, transparent=True, bbox_inches='tight')"
   ]
  },
  {
   "cell_type": "code",
   "execution_count": 9,
   "id": "lucky-consolidation",
   "metadata": {},
   "outputs": [
    {
     "data": {
      "image/png": "[encoded data removed]",
      "text/plain": [
       "<Figure size 432x288 with 1 Axes>"
      ]
     },
     "metadata": {
      "needs_background": "light"
     },
     "output_type": "display_data"
    }
   ],
   "source": [
    "plt.bar(data.groupby('size').mean()['height'].index, data.groupby('size').mean()['height'].values)\n",
    "plt.title('height vs. size');\n",
    "plt.savefig('Size-Height.png', dpi=200, transparent=True, bbox_inches='tight')"
   ]
  },
  {
   "cell_type": "code",
   "execution_count": 10,
   "id": "ambient-huntington",
   "metadata": {},
   "outputs": [
    {
     "data": {
      "image/png": "[encoded data removed]",
      "text/plain": [
       "<Figure size 432x288 with 1 Axes>"
      ]
     },
     "metadata": {
      "needs_background": "light"
     },
     "output_type": "display_data"
    }
   ],
   "source": [
    "plt.bar(data.groupby('size').mean()['weight'].index, data.groupby('size').mean()['weight'].values)\n",
    "plt.title('weight vs. size');\n",
    "plt.savefig('Size-Weight.png', dpi=200, transparent=True, bbox_inches='tight')"
   ]
  },
  {
   "cell_type": "markdown",
   "id": "appointed-search",
   "metadata": {},
   "source": [
    "From the data, we can get that there is a bias problem where the range of data is very restricted which can lead to a bad performance of the model, as the data is not varied."
   ]
  },
  {
   "cell_type": "markdown",
   "id": "collectible-shuttle",
   "metadata": {},
   "source": [
    "### Correlation between variables in the dataset\n",
    "Code extracted from [here](https://seaborn.pydata.org/examples/many_pairwise_correlations.html)"
   ]
  },
  {
   "cell_type": "code",
   "execution_count": 6,
   "id": "vertical-novelty",
   "metadata": {},
   "outputs": [
    {
     "data": {
      "image/png": "[encoded data removed]",
      "text/plain": [
       "<Figure size 792x648 with 2 Axes>"
      ]
     },
     "metadata": {
      "needs_background": "light"
     },
     "output_type": "display_data"
    }
   ],
   "source": [
    "\n",
    "import seaborn as sns\n",
    "mask = np.triu(np.ones_like(data.corr(), dtype=bool))\n",
    "\n",
    "# Set up the matplotlib figure\n",
    "f, ax = plt.subplots(figsize=(11, 9))\n",
    "\n",
    "# Generate a custom diverging colormap\n",
    "cmap = sns.diverging_palette(230, 20, as_cmap=True)\n",
    "\n",
    "# Draw the heatmap with the mask and correct aspect ratio\n",
    "sns.heatmap(data.corr(), mask=mask, cmap=cmap, vmax=.3, center=0,\n",
    "            square=True, linewidths=.5, cbar_kws={\"shrink\": .5})\n",
    "plt.savefig('Heatmap.png', dpi=200, transparent=True, bbox_inches='tight')\n",
    "\n"
   ]
  },
  {
   "cell_type": "markdown",
   "id": "strong-princeton",
   "metadata": {},
   "source": [
    "Here, we can see that age with height are not correlated at all and weight with age neither, however we can't discard this variable as it can lead us to better performance in the model as there are more characteristics to learn, thus the model would be more precise."
   ]
  },
  {
   "cell_type": "code",
   "execution_count": 7,
   "id": "british-dairy",
   "metadata": {
    "scrolled": true
   },
   "outputs": [
    {
     "data": {
      "image/png": "[encoded data removed]",
      "text/plain": [
       "<Figure size 432x288 with 1 Axes>"
      ]
     },
     "metadata": {
      "needs_background": "light"
     },
     "output_type": "display_data"
    }
   ],
   "source": [
    "# PLOTTING DISTRIBUTION OF COLUMNS\n",
    "\n",
    "plt.bar(data['weight'].value_counts().index, data['weight'].value_counts().values, color='r');\n",
    "plt.bar(data['age'].value_counts().index, data['age'].value_counts().values, color='b');\n",
    "plt.bar(data['height'].value_counts().index, data['height'].value_counts().values, color='g');\n",
    "plt.title('Data Distributions');\n",
    "plt.savefig('Data-Distributions.png', dpi=200, transparent=True, bbox_inches='tight')"
   ]
  },
  {
   "cell_type": "code",
   "execution_count": 8,
   "id": "swedish-hebrew",
   "metadata": {
    "scrolled": true
   },
   "outputs": [
    {
     "data": {
      "image/png": "[encoded data removed]",
      "text/plain": [
       "<Figure size 432x288 with 1 Axes>"
      ]
     },
     "metadata": {
      "needs_background": "light"
     },
     "output_type": "display_data"
    }
   ],
   "source": [
    "# SIZE COLUMN PLOTTED IN A DIFFERENT CELL AS IT CONTAINS STRING VALUES YET\n",
    "\n",
    "plt.bar(data['size'].value_counts().index, data['size'].value_counts().values);\n",
    "plt.title('Size columns distribution');\n",
    "plt.savefig('Size-Distributions.png', dpi=200, transparent=True, bbox_inches='tight')"
   ]
  },
  {
   "cell_type": "markdown",
   "id": "united-ready",
   "metadata": {},
   "source": [
    "From these plots we can see that there is a clear normal distribution for the main 3 columns and a clear dominance in the \"Medium\" size for the last column."
   ]
  },
  {
   "cell_type": "code",
   "execution_count": 11,
   "id": "bizarre-juvenile",
   "metadata": {},
   "outputs": [
    {
     "name": "stdout",
     "output_type": "stream",
     "text": [
      "Average height in the dataset:  165.8057942782486\n",
      "Average age in the dataset:  34.027310695782454\n",
      "Average weight in the dataset:  61.75681093089682\n",
      "dtype of Height:  float64\n",
      "dtype of Age:  float64\n",
      "dtype of Weight:  int64\n"
     ]
    }
   ],
   "source": [
    "# CHECKING DATA MEANS AND DATA TYPES\n",
    "\n",
    "print('Average height in the dataset: ',data.height.mean())\n",
    "print('Average age in the dataset: ',data.age.mean())\n",
    "print('Average weight in the dataset: ',data.weight.mean())\n",
    "print('dtype of Height: ', data.height.dtype)\n",
    "print('dtype of Age: ', data.age.dtype)\n",
    "print('dtype of Weight: ', data.weight.dtype)"
   ]
  },
  {
   "cell_type": "code",
   "execution_count": 12,
   "id": "collected-mediterranean",
   "metadata": {},
   "outputs": [],
   "source": [
    "# FUNCTION TO TRANSLATE FROM STRING SIZE TO ENCODED FLOAT\n",
    "\n",
    "def map_size(size):\n",
    "    \"\"\"\n",
    "    Takes the clothing size as string type and returns the corresponding coded value in float type.\n",
    "    \"\"\"\n",
    "    if size == 'XXS':\n",
    "        return 0.0\n",
    "    elif size == 'S':\n",
    "        return 1.0\n",
    "    elif size == 'M':\n",
    "        return 2.0\n",
    "    elif size == 'L':\n",
    "        return 3.0\n",
    "    elif size == 'XL':\n",
    "        return 4.0\n",
    "    elif size == 'XXL':\n",
    "        return 5.0\n",
    "    elif size == 'XXXL':\n",
    "        return 6.0"
   ]
  },
  {
   "cell_type": "code",
   "execution_count": 13,
   "id": "tamil-brisbane",
   "metadata": {},
   "outputs": [],
   "source": [
    "# DROPPING ALL THE NaNs VALUES AS THERE ARE ENOUGH VALUES ALREADY.\n",
    "# APPLYING THE MAPPING FUNCTION FOR THE SIZE COLUMN\n",
    "# CASTING WEIGHT COLUMN DATATYPE TO FLOAT\n",
    "# IGNORING ROWS WHERE THE AGE IS 0 AS THESE DATAPOINTS HAVE NO SENSE\n",
    "\n",
    "\n",
    "data = data.dropna()\n",
    "data['weight'] = data['weight'].astype('float64')\n",
    "data['height'] = data['height'].apply(np.round)\n",
    "data['size'] = data['size'].apply(map_size)\n",
    "data = data[data['age'] != 0]"
   ]
  },
  {
   "cell_type": "code",
   "execution_count": 14,
   "id": "included-punch",
   "metadata": {},
   "outputs": [],
   "source": [
    "# APPLYING NORMALIZATION FOR EACH INPUT COLUMN\n",
    "\n",
    "def NormalizeData01(data, min_, max_):\n",
    "    return (data - min_) / (max_ - min_)\n",
    "def NormalizeDataMinus1to1(data, min_, max_): # This funtion wasn't used as it didn't show better performance\n",
    "    return (2*((data - min_) / (max_ - min_))) - 1\n",
    "\n",
    "data['weight'] = data['weight'].apply(lambda x: NormalizeData01(x, data['weight'].min(), data['weight'].max()))     \n",
    "data['age'] = data['age'].apply(lambda x: NormalizeData01(x, data['age'].min(), data['age'].max()))      \n",
    "data['height'] = data['height'].apply(lambda x: NormalizeData01(x, data['height'].min(), data['height'].max()))     "
   ]
  },
  {
   "cell_type": "markdown",
   "id": "transparent-semiconductor",
   "metadata": {},
   "source": [
    "## Model's creation\n",
    "Using Pytorch (Facebook's ML framework), a neural network is created for predicting clothing size. Hyperparameters used were:\n",
    "* Learning Rate: 0.01\n",
    "* Optimizer: SGD with momentum\n",
    "* Number of epochs: 50\n",
    "* Activation funtions: Relu\n",
    "* Number of hidden layers: 2\n",
    "* Number of neurons per hidden layer: 64\n",
    "* Loss function (Main metric): CrossEntropyLoss (used for classification problems)\n",
    "* Accuracy metric: R2 Score\n",
    "* Train-Validation-Test split: 60|20|20\n",
    "* Validation every 5 batches of training."
   ]
  },
  {
   "cell_type": "code",
   "execution_count": 15,
   "id": "seeing-ground",
   "metadata": {},
   "outputs": [],
   "source": [
    "X = data[['weight', 'age', 'height']]\n",
    "Y = data['size']\n",
    "X = X.values\n",
    "Y = Y.values\n",
    "\n",
    "# DATASET 60-20-20 SPLIT PROPORTION TRAIN-VALIDATE-TEST RESPECTIVELY\n",
    "\n",
    "X_train, X_val_test, Y_train, Y_val_test = train_test_split(X, Y, test_size=0.4)\n",
    "X_val, X_test, Y_val, Y_test = train_test_split(X_val_test, Y_val_test, test_size=0.5)"
   ]
  },
  {
   "cell_type": "code",
   "execution_count": 16,
   "id": "exposed-practitioner",
   "metadata": {},
   "outputs": [],
   "source": [
    "# CONVERTING DATA TO TENSORS\n",
    "\n",
    "X_train = torch.from_numpy(X_train).type(torch.FloatTensor)\n",
    "\n",
    "X_val = torch.from_numpy(X_val).type(torch.FloatTensor)\n",
    "\n",
    "X_test = torch.from_numpy(X_test).type(torch.FloatTensor)\n",
    "\n",
    "Y_train = torch.from_numpy(Y_train).type(torch.FloatTensor)\n",
    "\n",
    "Y_val = torch.from_numpy(Y_val).type(torch.FloatTensor)\n",
    "\n",
    "# SETTING TENSOR DATASETS\n",
    "\n",
    "train_tensor = torch.utils.data.TensorDataset(X_train, Y_train)\n",
    "\n",
    "validation_tensor = torch.utils.data.TensorDataset(X_val, Y_val)\n",
    "\n",
    "test_tensor = torch.utils.data.TensorDataset(X_test)\n",
    "\n",
    "# FINAL DATA LOADERS - SETTING BATCH CONFIGURATION\n",
    "\n",
    "train_loader = torch.utils.data.DataLoader(train_tensor,\n",
    "                                           batch_size=64,\n",
    "                                           shuffle=True)\n",
    "\n",
    "validation_loader = torch.utils.data.DataLoader(validation_tensor,\n",
    "                                                batch_size=64,\n",
    "                                                shuffle=False)\n",
    "\n",
    "test_loader = torch.utils.data.DataLoader(test_tensor,\n",
    "                                          batch_size=64,\n",
    "                                          shuffle=False)\n"
   ]
  },
  {
   "cell_type": "code",
   "execution_count": 17,
   "id": "married-profile",
   "metadata": {},
   "outputs": [],
   "source": [
    "# MODEL SET-UP\n",
    "\n",
    "input_size = 3\n",
    "hidden_sizes = [64, 64]\n",
    "output_size = 7\n",
    "device = torch.device('cuda' if torch.cuda.is_available() else 'cpu')\n",
    "\n",
    "model = nn.Sequential(nn.Linear(input_size, hidden_sizes[0]),\n",
    "                      nn.ReLU(),\n",
    "                      nn.Linear(hidden_sizes[0], hidden_sizes[1]),\n",
    "                      nn.ReLU(),\n",
    "                      nn.Linear(hidden_sizes[1], output_size),\n",
    "                      )"
   ]
  },
  {
   "cell_type": "code",
   "execution_count": 18,
   "id": "educational-mistake",
   "metadata": {},
   "outputs": [],
   "source": [
    "# XAVIER'S WEIGHTS INITIALIZATION\n",
    "\n",
    "for name, module in model.named_modules():\n",
    "    if isinstance(module, torch.nn.Linear):\n",
    "        torch.nn.init.xavier_uniform_(module.weight, gain=1.0)"
   ]
  },
  {
   "cell_type": "code",
   "execution_count": 19,
   "id": "affecting-raising",
   "metadata": {},
   "outputs": [],
   "source": [
    "# PRE-TRAINING SET-UP\n",
    "\n",
    "optimizer = optim.SGD(model.parameters(), lr=0.01, momentum=0.9)\n",
    "epochs = 50\n",
    "criterion = nn.CrossEntropyLoss()\n",
    "model.to(device)\n",
    "running_loss = 0\n",
    "steps = 0\n",
    "best_model_r2 = 0"
   ]
  },
  {
   "cell_type": "code",
   "execution_count": 20,
   "id": "graphic-january",
   "metadata": {
    "scrolled": true
   },
   "outputs": [
    {
     "name": "stdout",
     "output_type": "stream",
     "text": [
      "Training Started!\n",
      "Epoch number:  1\n",
      "Train loss: 1.7630.. Valid loss: 1.7033.. Valid accuracy: -5.61905..\n",
      "Train loss: 1.5863.. Valid loss: 1.4339.. Valid accuracy: 38.66745..\n",
      "Train loss: 1.3166.. Valid loss: 1.2182.. Valid accuracy: 61.04423..\n",
      "Train loss: 1.2010.. Valid loss: 1.1637.. Valid accuracy: 64.71895..\n",
      "Train loss: 1.1725.. Valid loss: 1.1533.. Valid accuracy: 62.04616..\n",
      "Epoch number:  2\n",
      "Train loss: 1.1549.. Valid loss: 1.1425.. Valid accuracy: 65.49643..\n",
      "Train loss: 1.1618.. Valid loss: 1.1387.. Valid accuracy: 64.26032..\n",
      "Train loss: 1.1593.. Valid loss: 1.1497.. Valid accuracy: 62.09812..\n",
      "Train loss: 1.1627.. Valid loss: 1.1521.. Valid accuracy: 62.49048..\n",
      "Train loss: 1.1523.. Valid loss: 1.1361.. Valid accuracy: 66.56463..\n",
      "Epoch number:  3\n",
      "Train loss: 1.1650.. Valid loss: 1.1370.. Valid accuracy: 64.74831..\n",
      "Train loss: 1.1631.. Valid loss: 1.1341.. Valid accuracy: 64.49221..\n",
      "Train loss: 1.1536.. Valid loss: 1.1359.. Valid accuracy: 62.27648..\n",
      "Train loss: 1.1412.. Valid loss: 1.1564.. Valid accuracy: 63.41056..\n",
      "Train loss: 1.1560.. Valid loss: 1.1458.. Valid accuracy: 62.95659..\n",
      "Epoch number:  4\n",
      "Train loss: 1.1523.. Valid loss: 1.1488.. Valid accuracy: 63.57306..\n",
      "Train loss: 1.1553.. Valid loss: 1.1384.. Valid accuracy: 64.84015..\n",
      "Train loss: 1.1550.. Valid loss: 1.1381.. Valid accuracy: 63.42187..\n",
      "Train loss: 1.1496.. Valid loss: 1.1324.. Valid accuracy: 64.74293..\n",
      "Train loss: 1.1414.. Valid loss: 1.1465.. Valid accuracy: 64.13593..\n",
      "Epoch number:  5\n",
      "Train loss: 1.1624.. Valid loss: 1.1467.. Valid accuracy: 64.77561..\n",
      "Train loss: 1.1476.. Valid loss: 1.1462.. Valid accuracy: 63.25180..\n",
      "Train loss: 1.1532.. Valid loss: 1.1471.. Valid accuracy: 64.09421..\n",
      "Train loss: 1.1396.. Valid loss: 1.1372.. Valid accuracy: 65.98341..\n",
      "Train loss: 1.1410.. Valid loss: 1.1351.. Valid accuracy: 63.28994..\n",
      "Epoch number:  6\n",
      "Train loss: 1.1573.. Valid loss: 1.1323.. Valid accuracy: 63.92411..\n",
      "Train loss: 1.1489.. Valid loss: 1.1313.. Valid accuracy: 64.92416..\n",
      "Train loss: 1.1222.. Valid loss: 1.1369.. Valid accuracy: 65.44955..\n",
      "Train loss: 1.1512.. Valid loss: 1.1378.. Valid accuracy: 63.27458..\n",
      "Train loss: 1.1544.. Valid loss: 1.1372.. Valid accuracy: 63.96962..\n",
      "Epoch number:  7\n",
      "Train loss: 1.1442.. Valid loss: 1.1386.. Valid accuracy: 64.79110..\n",
      "Train loss: 1.1508.. Valid loss: 1.1602.. Valid accuracy: 62.34916..\n",
      "Train loss: 1.1565.. Valid loss: 1.1676.. Valid accuracy: 61.66005..\n",
      "Train loss: 1.1377.. Valid loss: 1.1292.. Valid accuracy: 64.48670..\n",
      "Train loss: 1.1414.. Valid loss: 1.1417.. Valid accuracy: 59.53100..\n",
      "Epoch number:  8\n",
      "Train loss: 1.1424.. Valid loss: 1.1336.. Valid accuracy: 62.93570..\n",
      "Train loss: 1.1398.. Valid loss: 1.1308.. Valid accuracy: 65.35561..\n",
      "Train loss: 1.1432.. Valid loss: 1.1295.. Valid accuracy: 65.74995..\n",
      "Train loss: 1.1416.. Valid loss: 1.2042.. Valid accuracy: 58.60631..\n",
      "Train loss: 1.1563.. Valid loss: 1.1365.. Valid accuracy: 62.84238..\n",
      "Epoch number:  9\n",
      "Train loss: 1.1485.. Valid loss: 1.1344.. Valid accuracy: 64.14439..\n",
      "Train loss: 1.1409.. Valid loss: 1.1299.. Valid accuracy: 64.88322..\n",
      "Train loss: 1.1469.. Valid loss: 1.1584.. Valid accuracy: 63.50079..\n",
      "Train loss: 1.1365.. Valid loss: 1.1280.. Valid accuracy: 65.55754..\n",
      "Train loss: 1.1414.. Valid loss: 1.1361.. Valid accuracy: 65.86684..\n",
      "Epoch number:  10\n",
      "Train loss: 1.1412.. Valid loss: 1.1322.. Valid accuracy: 64.85658..\n",
      "Train loss: 1.1401.. Valid loss: 1.1281.. Valid accuracy: 66.05209..\n",
      "Train loss: 1.1453.. Valid loss: 1.1269.. Valid accuracy: 66.53545..\n",
      "Train loss: 1.1436.. Valid loss: 1.1320.. Valid accuracy: 64.66466..\n",
      "Train loss: 1.1325.. Valid loss: 1.1290.. Valid accuracy: 66.71270..\n",
      "Epoch number:  11\n",
      "Train loss: 1.1360.. Valid loss: 1.1531.. Valid accuracy: 61.36623..\n",
      "Train loss: 1.1454.. Valid loss: 1.1262.. Valid accuracy: 64.14983..\n",
      "Train loss: 1.1348.. Valid loss: 1.1344.. Valid accuracy: 65.96518..\n",
      "Train loss: 1.1427.. Valid loss: 1.1261.. Valid accuracy: 65.08821..\n",
      "Train loss: 1.1417.. Valid loss: 1.1395.. Valid accuracy: 64.40772..\n",
      "Epoch number:  12\n",
      "Train loss: 1.1431.. Valid loss: 1.1278.. Valid accuracy: 64.89824..\n",
      "Train loss: 1.1310.. Valid loss: 1.1255.. Valid accuracy: 63.72772..\n",
      "Train loss: 1.1412.. Valid loss: 1.1353.. Valid accuracy: 65.71379..\n",
      "Train loss: 1.1353.. Valid loss: 1.1337.. Valid accuracy: 64.39626..\n",
      "Train loss: 1.1445.. Valid loss: 1.1292.. Valid accuracy: 66.66582..\n",
      "Epoch number:  13\n",
      "Train loss: 1.1395.. Valid loss: 1.1363.. Valid accuracy: 64.66090..\n",
      "Train loss: 1.1438.. Valid loss: 1.1291.. Valid accuracy: 66.30254..\n",
      "Train loss: 1.1397.. Valid loss: 1.1297.. Valid accuracy: 66.61737..\n",
      "Train loss: 1.1411.. Valid loss: 1.1253.. Valid accuracy: 64.75112..\n",
      "Train loss: 1.1216.. Valid loss: 1.1254.. Valid accuracy: 66.56710..\n",
      "Epoch number:  14\n",
      "Train loss: 1.1253.. Valid loss: 1.1249.. Valid accuracy: 67.19680..\n",
      "Train loss: 1.1378.. Valid loss: 1.1277.. Valid accuracy: 66.40120..\n",
      "Train loss: 1.1373.. Valid loss: 1.1262.. Valid accuracy: 63.69158..\n",
      "Train loss: 1.1378.. Valid loss: 1.1334.. Valid accuracy: 64.11338..\n",
      "Train loss: 1.1437.. Valid loss: 1.1500.. Valid accuracy: 60.02015..\n",
      "Epoch number:  15\n",
      "Train loss: 1.1310.. Valid loss: 1.1235.. Valid accuracy: 64.88478..\n",
      "Train loss: 1.1448.. Valid loss: 1.1266.. Valid accuracy: 65.98951..\n",
      "Train loss: 1.1374.. Valid loss: 1.1323.. Valid accuracy: 67.27272..\n",
      "Train loss: 1.1429.. Valid loss: 1.1245.. Valid accuracy: 64.08771..\n",
      "Train loss: 1.1271.. Valid loss: 1.1260.. Valid accuracy: 64.98144..\n",
      "Epoch number:  16\n",
      "Train loss: 1.1411.. Valid loss: 1.1281.. Valid accuracy: 66.04859..\n",
      "Train loss: 1.1389.. Valid loss: 1.1337.. Valid accuracy: 67.40775..\n",
      "Train loss: 1.1378.. Valid loss: 1.1232.. Valid accuracy: 63.96942..\n",
      "Train loss: 1.1314.. Valid loss: 1.1366.. Valid accuracy: 63.46309..\n",
      "Train loss: 1.1335.. Valid loss: 1.1250.. Valid accuracy: 66.46135..\n",
      "Epoch number:  17\n",
      "Train loss: 1.1374.. Valid loss: 1.1244.. Valid accuracy: 65.81325..\n",
      "Train loss: 1.1412.. Valid loss: 1.1395.. Valid accuracy: 65.26719..\n",
      "Train loss: 1.1269.. Valid loss: 1.1241.. Valid accuracy: 66.60596..\n",
      "Train loss: 1.1388.. Valid loss: 1.1664.. Valid accuracy: 62.99593..\n",
      "Train loss: 1.1409.. Valid loss: 1.1542.. Valid accuracy: 63.70702..\n",
      "Epoch number:  18\n",
      "Train loss: 1.1277.. Valid loss: 1.1266.. Valid accuracy: 66.20539..\n",
      "Train loss: 1.1325.. Valid loss: 1.1283.. Valid accuracy: 66.15738..\n",
      "Train loss: 1.1399.. Valid loss: 1.1466.. Valid accuracy: 64.82638..\n",
      "Train loss: 1.1433.. Valid loss: 1.1263.. Valid accuracy: 66.13796..\n",
      "Train loss: 1.1345.. Valid loss: 1.1514.. Valid accuracy: 61.12015..\n",
      "Epoch number:  19\n",
      "Train loss: 1.1348.. Valid loss: 1.1318.. Valid accuracy: 64.96054..\n",
      "Train loss: 1.1355.. Valid loss: 1.1220.. Valid accuracy: 65.17523..\n",
      "Train loss: 1.1316.. Valid loss: 1.1291.. Valid accuracy: 63.06861..\n",
      "Train loss: 1.1368.. Valid loss: 1.1265.. Valid accuracy: 64.08015..\n",
      "Train loss: 1.1312.. Valid loss: 1.1264.. Valid accuracy: 65.83137..\n",
      "Epoch number:  20\n",
      "Train loss: 1.1428.. Valid loss: 1.1247.. Valid accuracy: 65.25587..\n",
      "Train loss: 1.1340.. Valid loss: 1.1464.. Valid accuracy: 64.80452..\n",
      "Train loss: 1.1406.. Valid loss: 1.1233.. Valid accuracy: 67.04101..\n",
      "Train loss: 1.1263.. Valid loss: 1.1266.. Valid accuracy: 64.92132..\n",
      "Train loss: 1.1233.. Valid loss: 1.1356.. Valid accuracy: 61.53388..\n",
      "Epoch number:  21\n",
      "Train loss: 1.1427.. Valid loss: 1.1247.. Valid accuracy: 65.11475..\n",
      "Train loss: 1.1378.. Valid loss: 1.1212.. Valid accuracy: 65.50352..\n",
      "Train loss: 1.1247.. Valid loss: 1.1278.. Valid accuracy: 67.00319..\n",
      "Train loss: 1.1343.. Valid loss: 1.1217.. Valid accuracy: 66.60055..\n",
      "Train loss: 1.1308.. Valid loss: 1.1260.. Valid accuracy: 66.26563..\n",
      "Epoch number:  22\n",
      "Train loss: 1.1298.. Valid loss: 1.1294.. Valid accuracy: 64.65315..\n",
      "Train loss: 1.1385.. Valid loss: 1.1291.. Valid accuracy: 64.31885..\n",
      "Train loss: 1.1347.. Valid loss: 1.1233.. Valid accuracy: 65.04951..\n",
      "Train loss: 1.1355.. Valid loss: 1.1275.. Valid accuracy: 66.31021..\n",
      "Train loss: 1.1301.. Valid loss: 1.1398.. Valid accuracy: 65.10940..\n",
      "Epoch number:  23\n",
      "Train loss: 1.1237.. Valid loss: 1.1251.. Valid accuracy: 65.48444..\n",
      "Train loss: 1.1352.. Valid loss: 1.1232.. Valid accuracy: 66.17065..\n",
      "Train loss: 1.1393.. Valid loss: 1.1248.. Valid accuracy: 64.61506..\n"
     ]
    },
    {
     "name": "stdout",
     "output_type": "stream",
     "text": [
      "Train loss: 1.1246.. Valid loss: 1.1246.. Valid accuracy: 63.83942..\n",
      "Train loss: 1.1317.. Valid loss: 1.1353.. Valid accuracy: 65.44788..\n",
      "Epoch number:  24\n",
      "Train loss: 1.1290.. Valid loss: 1.1255.. Valid accuracy: 66.10230..\n",
      "Train loss: 1.1345.. Valid loss: 1.1240.. Valid accuracy: 66.01425..\n",
      "Train loss: 1.1335.. Valid loss: 1.1225.. Valid accuracy: 66.75495..\n",
      "Train loss: 1.1364.. Valid loss: 1.1253.. Valid accuracy: 64.99446..\n",
      "Train loss: 1.1290.. Valid loss: 1.1232.. Valid accuracy: 64.10650..\n",
      "Epoch number:  25\n",
      "Train loss: 1.1321.. Valid loss: 1.1263.. Valid accuracy: 65.71588..\n",
      "Train loss: 1.1361.. Valid loss: 1.1465.. Valid accuracy: 64.25245..\n",
      "Train loss: 1.1310.. Valid loss: 1.1284.. Valid accuracy: 64.24730..\n",
      "Train loss: 1.1289.. Valid loss: 1.1241.. Valid accuracy: 65.61470..\n",
      "Train loss: 1.1296.. Valid loss: 1.1215.. Valid accuracy: 65.89984..\n",
      "Epoch number:  26\n",
      "Train loss: 1.1411.. Valid loss: 1.1260.. Valid accuracy: 65.81658..\n",
      "Train loss: 1.1269.. Valid loss: 1.1219.. Valid accuracy: 65.13446..\n",
      "Train loss: 1.1355.. Valid loss: 1.1217.. Valid accuracy: 65.76412..\n",
      "Train loss: 1.1333.. Valid loss: 1.1239.. Valid accuracy: 67.15362..\n",
      "Train loss: 1.1290.. Valid loss: 1.1239.. Valid accuracy: 67.21567..\n",
      "Epoch number:  27\n",
      "Train loss: 1.1316.. Valid loss: 1.1233.. Valid accuracy: 64.55545..\n",
      "Train loss: 1.1372.. Valid loss: 1.1243.. Valid accuracy: 66.03672..\n",
      "Train loss: 1.1340.. Valid loss: 1.1268.. Valid accuracy: 65.09749..\n",
      "Train loss: 1.1215.. Valid loss: 1.1257.. Valid accuracy: 63.83118..\n",
      "Train loss: 1.1276.. Valid loss: 1.1329.. Valid accuracy: 62.98743..\n",
      "Epoch number:  28\n",
      "Train loss: 1.1329.. Valid loss: 1.1211.. Valid accuracy: 64.72962..\n",
      "Train loss: 1.1294.. Valid loss: 1.1233.. Valid accuracy: 64.73799..\n",
      "Train loss: 1.1316.. Valid loss: 1.1229.. Valid accuracy: 65.03330..\n",
      "Train loss: 1.1269.. Valid loss: 1.1365.. Valid accuracy: 63.24485..\n",
      "Train loss: 1.1455.. Valid loss: 1.1262.. Valid accuracy: 65.37510..\n",
      "Epoch number:  29\n",
      "Train loss: 1.1299.. Valid loss: 1.1277.. Valid accuracy: 67.72419..\n",
      "Train loss: 1.1311.. Valid loss: 1.1254.. Valid accuracy: 63.21440..\n",
      "Train loss: 1.1342.. Valid loss: 1.1240.. Valid accuracy: 66.67510..\n",
      "Train loss: 1.1207.. Valid loss: 1.1219.. Valid accuracy: 64.30441..\n",
      "Train loss: 1.1308.. Valid loss: 1.1256.. Valid accuracy: 65.21913..\n",
      "Epoch number:  30\n",
      "Train loss: 1.1370.. Valid loss: 1.1210.. Valid accuracy: 66.43244..\n",
      "Train loss: 1.1317.. Valid loss: 1.1196.. Valid accuracy: 66.16683..\n",
      "Train loss: 1.1217.. Valid loss: 1.1241.. Valid accuracy: 65.81703..\n",
      "Train loss: 1.1320.. Valid loss: 1.1245.. Valid accuracy: 66.13083..\n",
      "Train loss: 1.1328.. Valid loss: 1.1337.. Valid accuracy: 64.70206..\n",
      "Epoch number:  31\n",
      "Train loss: 1.1390.. Valid loss: 1.1274.. Valid accuracy: 65.36668..\n",
      "Train loss: 1.1332.. Valid loss: 1.1253.. Valid accuracy: 67.41694..\n",
      "Train loss: 1.1323.. Valid loss: 1.1266.. Valid accuracy: 65.94713..\n",
      "Train loss: 1.1276.. Valid loss: 1.1233.. Valid accuracy: 66.53870..\n",
      "Train loss: 1.1224.. Valid loss: 1.1214.. Valid accuracy: 65.63835..\n",
      "Epoch number:  32\n",
      "Train loss: 1.1430.. Valid loss: 1.1297.. Valid accuracy: 66.43941..\n",
      "Train loss: 1.1257.. Valid loss: 1.1216.. Valid accuracy: 66.44677..\n",
      "Train loss: 1.1314.. Valid loss: 1.1290.. Valid accuracy: 64.84164..\n",
      "Train loss: 1.1240.. Valid loss: 1.1237.. Valid accuracy: 65.19098..\n",
      "Train loss: 1.1338.. Valid loss: 1.1274.. Valid accuracy: 65.67946..\n",
      "Epoch number:  33\n",
      "Train loss: 1.1374.. Valid loss: 1.1253.. Valid accuracy: 64.30668..\n",
      "Train loss: 1.1229.. Valid loss: 1.1347.. Valid accuracy: 62.69879..\n",
      "Train loss: 1.1270.. Valid loss: 1.1226.. Valid accuracy: 65.60739..\n",
      "Train loss: 1.1324.. Valid loss: 1.1211.. Valid accuracy: 65.57115..\n",
      "Train loss: 1.1311.. Valid loss: 1.1274.. Valid accuracy: 63.31891..\n",
      "Epoch number:  34\n",
      "Train loss: 1.1239.. Valid loss: 1.1219.. Valid accuracy: 66.07513..\n",
      "Train loss: 1.1252.. Valid loss: 1.1209.. Valid accuracy: 64.97722..\n",
      "Train loss: 1.1369.. Valid loss: 1.1238.. Valid accuracy: 67.09810..\n",
      "Train loss: 1.1352.. Valid loss: 1.1264.. Valid accuracy: 66.04964..\n",
      "Train loss: 1.1304.. Valid loss: 1.1215.. Valid accuracy: 64.94470..\n",
      "Epoch number:  35\n",
      "Train loss: 1.1364.. Valid loss: 1.1232.. Valid accuracy: 66.72521..\n",
      "Train loss: 1.1267.. Valid loss: 1.1233.. Valid accuracy: 66.26048..\n",
      "Train loss: 1.1290.. Valid loss: 1.1196.. Valid accuracy: 66.08023..\n",
      "Train loss: 1.1227.. Valid loss: 1.1235.. Valid accuracy: 67.03711..\n",
      "Train loss: 1.1343.. Valid loss: 1.1197.. Valid accuracy: 66.88047..\n",
      "Epoch number:  36\n",
      "Train loss: 1.1370.. Valid loss: 1.1218.. Valid accuracy: 64.99685..\n",
      "Train loss: 1.1366.. Valid loss: 1.1209.. Valid accuracy: 64.75891..\n",
      "Train loss: 1.1192.. Valid loss: 1.1231.. Valid accuracy: 65.16136..\n",
      "Train loss: 1.1281.. Valid loss: 1.1231.. Valid accuracy: 64.90067..\n",
      "Train loss: 1.1256.. Valid loss: 1.1246.. Valid accuracy: 66.18495..\n",
      "Epoch number:  37\n",
      "Train loss: 1.1299.. Valid loss: 1.1306.. Valid accuracy: 65.11263..\n",
      "Train loss: 1.1364.. Valid loss: 1.1280.. Valid accuracy: 65.41839..\n",
      "Train loss: 1.1307.. Valid loss: 1.1328.. Valid accuracy: 67.41460..\n",
      "Train loss: 1.1268.. Valid loss: 1.1221.. Valid accuracy: 64.83932..\n",
      "Train loss: 1.1314.. Valid loss: 1.1205.. Valid accuracy: 66.01805..\n",
      "Epoch number:  38\n",
      "Train loss: 1.1285.. Valid loss: 1.1212.. Valid accuracy: 65.13951..\n",
      "Train loss: 1.1321.. Valid loss: 1.1251.. Valid accuracy: 65.57048..\n",
      "Train loss: 1.1214.. Valid loss: 1.1280.. Valid accuracy: 62.36209..\n",
      "Train loss: 1.1252.. Valid loss: 1.1228.. Valid accuracy: 67.15720..\n",
      "Train loss: 1.1357.. Valid loss: 1.1334.. Valid accuracy: 66.64147..\n",
      "Epoch number:  39\n",
      "Train loss: 1.1347.. Valid loss: 1.1201.. Valid accuracy: 66.06810..\n",
      "Train loss: 1.1225.. Valid loss: 1.1240.. Valid accuracy: 65.29711..\n",
      "Train loss: 1.1331.. Valid loss: 1.1467.. Valid accuracy: 64.56953..\n",
      "Train loss: 1.1238.. Valid loss: 1.1350.. Valid accuracy: 65.08848..\n",
      "Train loss: 1.1343.. Valid loss: 1.1246.. Valid accuracy: 65.80426..\n",
      "Epoch number:  40\n",
      "Train loss: 1.1315.. Valid loss: 1.1226.. Valid accuracy: 66.47541..\n",
      "Train loss: 1.1348.. Valid loss: 1.1219.. Valid accuracy: 65.40816..\n",
      "Train loss: 1.1231.. Valid loss: 1.1247.. Valid accuracy: 65.84523..\n",
      "Train loss: 1.1238.. Valid loss: 1.1197.. Valid accuracy: 66.63481..\n",
      "Train loss: 1.1301.. Valid loss: 1.1220.. Valid accuracy: 64.64252..\n",
      "Epoch number:  41\n",
      "Train loss: 1.1291.. Valid loss: 1.1223.. Valid accuracy: 65.95645..\n",
      "Train loss: 1.1355.. Valid loss: 1.1261.. Valid accuracy: 65.26576..\n",
      "Train loss: 1.1268.. Valid loss: 1.1192.. Valid accuracy: 66.08761..\n",
      "Train loss: 1.1363.. Valid loss: 1.1373.. Valid accuracy: 65.13502..\n",
      "Train loss: 1.1205.. Valid loss: 1.1242.. Valid accuracy: 66.42562..\n",
      "Epoch number:  42\n",
      "Train loss: 1.1321.. Valid loss: 1.1233.. Valid accuracy: 66.46212..\n",
      "Train loss: 1.1333.. Valid loss: 1.1207.. Valid accuracy: 67.06001..\n",
      "Train loss: 1.1234.. Valid loss: 1.1271.. Valid accuracy: 66.91477..\n",
      "Train loss: 1.1269.. Valid loss: 1.1222.. Valid accuracy: 64.23718..\n",
      "Train loss: 1.1305.. Valid loss: 1.1246.. Valid accuracy: 67.04962..\n",
      "Epoch number:  43\n",
      "Train loss: 1.1199.. Valid loss: 1.1195.. Valid accuracy: 66.78150..\n",
      "Train loss: 1.1310.. Valid loss: 1.1418.. Valid accuracy: 63.94206..\n",
      "Train loss: 1.1269.. Valid loss: 1.1214.. Valid accuracy: 64.51501..\n",
      "Train loss: 1.1291.. Valid loss: 1.1199.. Valid accuracy: 65.81728..\n",
      "Train loss: 1.1318.. Valid loss: 1.1221.. Valid accuracy: 65.14402..\n",
      "Epoch number:  44\n",
      "Train loss: 1.1298.. Valid loss: 1.1226.. Valid accuracy: 64.23564..\n",
      "Train loss: 1.1298.. Valid loss: 1.1220.. Valid accuracy: 65.77070..\n",
      "Train loss: 1.1248.. Valid loss: 1.1195.. Valid accuracy: 65.59895..\n",
      "Train loss: 1.1307.. Valid loss: 1.1221.. Valid accuracy: 65.53395..\n",
      "Train loss: 1.1299.. Valid loss: 1.1224.. Valid accuracy: 64.66296..\n",
      "Epoch number:  45\n",
      "Train loss: 1.1273.. Valid loss: 1.1266.. Valid accuracy: 64.82799..\n",
      "Train loss: 1.1178.. Valid loss: 1.1249.. Valid accuracy: 65.84087..\n",
      "Train loss: 1.1343.. Valid loss: 1.1215.. Valid accuracy: 65.74149..\n",
      "Train loss: 1.1215.. Valid loss: 1.1277.. Valid accuracy: 66.34654..\n",
      "Train loss: 1.1392.. Valid loss: 1.1210.. Valid accuracy: 67.15898..\n",
      "Epoch number:  46\n",
      "Train loss: 1.1323.. Valid loss: 1.1205.. Valid accuracy: 65.83279..\n"
     ]
    },
    {
     "name": "stdout",
     "output_type": "stream",
     "text": [
      "Train loss: 1.1309.. Valid loss: 1.1227.. Valid accuracy: 63.55582..\n",
      "Train loss: 1.1241.. Valid loss: 1.1213.. Valid accuracy: 66.05168..\n",
      "Train loss: 1.1301.. Valid loss: 1.1222.. Valid accuracy: 66.06541..\n",
      "Train loss: 1.1208.. Valid loss: 1.1215.. Valid accuracy: 66.03915..\n",
      "Epoch number:  47\n",
      "Train loss: 1.1340.. Valid loss: 1.1202.. Valid accuracy: 67.28172..\n",
      "Train loss: 1.1382.. Valid loss: 1.1220.. Valid accuracy: 64.41184..\n",
      "Train loss: 1.1378.. Valid loss: 1.1239.. Valid accuracy: 66.92048..\n",
      "Train loss: 1.1152.. Valid loss: 1.1199.. Valid accuracy: 66.58513..\n",
      "Train loss: 1.1259.. Valid loss: 1.1219.. Valid accuracy: 66.41862..\n",
      "Epoch number:  48\n",
      "Train loss: 1.1255.. Valid loss: 1.1204.. Valid accuracy: 66.10554..\n",
      "Train loss: 1.1329.. Valid loss: 1.1395.. Valid accuracy: 65.21634..\n",
      "Train loss: 1.1290.. Valid loss: 1.1185.. Valid accuracy: 65.62222..\n",
      "Train loss: 1.1243.. Valid loss: 1.1205.. Valid accuracy: 66.78469..\n",
      "Train loss: 1.1286.. Valid loss: 1.1240.. Valid accuracy: 64.68122..\n",
      "Epoch number:  49\n",
      "Train loss: 1.1324.. Valid loss: 1.1224.. Valid accuracy: 65.32456..\n",
      "Train loss: 1.1279.. Valid loss: 1.1231.. Valid accuracy: 65.30680..\n",
      "Train loss: 1.1322.. Valid loss: 1.1211.. Valid accuracy: 65.62855..\n",
      "Train loss: 1.1247.. Valid loss: 1.1335.. Valid accuracy: 65.79099..\n",
      "Train loss: 1.1238.. Valid loss: 1.1243.. Valid accuracy: 66.96053..\n",
      "Epoch number:  50\n",
      "Train loss: 1.1292.. Valid loss: 1.1201.. Valid accuracy: 66.45230..\n",
      "Train loss: 1.1274.. Valid loss: 1.1262.. Valid accuracy: 63.88183..\n",
      "Train loss: 1.1274.. Valid loss: 1.1205.. Valid accuracy: 66.26433..\n",
      "Train loss: 1.1308.. Valid loss: 1.1194.. Valid accuracy: 66.22932..\n",
      "Train loss: 1.1284.. Valid loss: 1.1225.. Valid accuracy: 66.81159..\n",
      "Training finished!\n",
      "Training lasted:  196.05805897712708\n"
     ]
    }
   ],
   "source": [
    "# TRAINING START\n",
    "\n",
    "print('Training Started!')\n",
    "start = time.time()\n",
    "for e in range(epochs):\n",
    "    print('Epoch number: ', e + 1)\n",
    "\n",
    "    for inputs, labels in train_loader:\n",
    "\n",
    "        # TRAINING LOOP\n",
    "\n",
    "        inputs, labels = inputs.float(), labels.float()\n",
    "        inputs, labels = inputs.to(device), labels.to(device)\n",
    "\n",
    "        optimizer.zero_grad()\n",
    "        outputs = model(inputs)\n",
    "        loss = criterion(outputs, labels.long())\n",
    "\n",
    "        loss.backward()\n",
    "        optimizer.step()\n",
    "\n",
    "        running_loss += loss.item()\n",
    "\n",
    "        steps += 1\n",
    "\n",
    "        # 5 VALIDATION LOOPS PER EPOCH\n",
    "        \n",
    "        if steps == int(len(train_loader) / 5):\n",
    "            sanity = []\n",
    "            model.eval()\n",
    "            accuracy = 0\n",
    "            valid_loss = 0\n",
    "\n",
    "            with torch.no_grad():\n",
    "\n",
    "                for inputs, labels in validation_loader:\n",
    "\n",
    "                    # VALIDATION LOOP\n",
    "\n",
    "                    inputs, labels = inputs.float(), labels.float()\n",
    "                    inputs, labels = inputs.to(device), labels.to(device)\n",
    "\n",
    "                    outputs = model(inputs)\n",
    "\n",
    "                    loss_valid = criterion(outputs, labels.long())\n",
    "                    valid_loss += loss_valid.item()\n",
    "                    \n",
    "                    labels = labels.cpu()\n",
    "                    outputs = outputs.cpu()\n",
    "                    _, outputs = torch.max(outputs.data, 1)\n",
    "                    \n",
    "                    accuracy += r2_score(labels, outputs)\n",
    "                    \n",
    "                overall_accuracy = (accuracy * 100) / len(validation_loader)\n",
    "                \n",
    "                # If the overall accuracy is better than the best one we've got, save the model\n",
    "                if overall_accuracy > best_model_r2: \n",
    "                    best_model_r2 = overall_accuracy\n",
    "                    torch.save(model, 'clothing_size.pth')\n",
    "                print(\n",
    "                    f\"Train loss: {running_loss / steps:.4f}.. \"\n",
    "                    f\"Valid loss: {valid_loss / len(validation_loader):.4f}.. \"\n",
    "                    f\"Valid accuracy: {(accuracy * 100) / len(validation_loader):.5f}..\")\n",
    "\n",
    "            running_loss = 0\n",
    "            steps = 0\n",
    "            model.train()\n",
    "\n",
    "print('Training finished!')\n",
    "print('Training lasted: ', time.time() - start)\n"
   ]
  },
  {
   "cell_type": "code",
   "execution_count": 21,
   "id": "critical-diagnosis",
   "metadata": {},
   "outputs": [
    {
     "name": "stdout",
     "output_type": "stream",
     "text": [
      "=================================================================\n",
      "Layer (type:depth-idx)                   Param #\n",
      "=================================================================\n",
      "├─Linear: 1-1                            256\n",
      "├─ReLU: 1-2                              --\n",
      "├─Linear: 1-3                            4,160\n",
      "├─ReLU: 1-4                              --\n",
      "├─Linear: 1-5                            455\n",
      "=================================================================\n",
      "Total params: 4,871\n",
      "Trainable params: 4,871\n",
      "Non-trainable params: 0\n",
      "=================================================================\n"
     ]
    },
    {
     "data": {
      "text/plain": [
       "=================================================================\n",
       "Layer (type:depth-idx)                   Param #\n",
       "=================================================================\n",
       "├─Linear: 1-1                            256\n",
       "├─ReLU: 1-2                              --\n",
       "├─Linear: 1-3                            4,160\n",
       "├─ReLU: 1-4                              --\n",
       "├─Linear: 1-5                            455\n",
       "=================================================================\n",
       "Total params: 4,871\n",
       "Trainable params: 4,871\n",
       "Non-trainable params: 0\n",
       "================================================================="
      ]
     },
     "execution_count": 21,
     "metadata": {},
     "output_type": "execute_result"
    }
   ],
   "source": [
    "# PRINT MODEL'S CHARACTERISTICS\n",
    "\n",
    "summary(model)"
   ]
  },
  {
   "cell_type": "markdown",
   "id": "cardiac-mumbai",
   "metadata": {},
   "source": [
    "## Conclusions\n",
    "From the training results we can see that the model didn't perform well because of the factors mentioned before:\n",
    "* Variety in data is poor.\n",
    "* Correlation between data is low.\n",
    "\n",
    "For this problem, having more variety of data-points (e.g more height values from kids or ancient people | Having more weight values from kids and overweighted people) would help a lot without thinking about adding the number of variables which would make the model even 2x better however it makes the model and the input values more complex too. Even though the model had an R2 score of 0.6772 (67.72%) on a general basis the model performs decently in the app."
   ]
  },
  {
   "cell_type": "code",
   "execution_count": null,
   "id": "deluxe-blood",
   "metadata": {},
   "outputs": [],
   "source": []
  }
 ],
 "metadata": {
  "kernelspec": {
   "display_name": "Python 3",
   "language": "python",
   "name": "python3"
  },
  "language_info": {
   "codemirror_mode": {
    "name": "ipython",
    "version": 3
   },
   "file_extension": ".py",
   "mimetype": "text/x-python",
   "name": "python",
   "nbconvert_exporter": "python",
   "pygments_lexer": "ipython3",
   "version": "3.8.6"
  }
 },
 "nbformat": 4,
 "nbformat_minor": 5
}
