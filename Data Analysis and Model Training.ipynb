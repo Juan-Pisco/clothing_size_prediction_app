{
 "cells": [
  {
   "cell_type": "markdown",
   "id": "trying-secondary",
   "metadata": {},
   "source": [
    "# Title here"
   ]
  },
  {
   "cell_type": "code",
   "execution_count": 82,
   "id": "adaptive-integer",
   "metadata": {},
   "outputs": [],
   "source": [
    "# Import statements\n",
    "\n",
    "import pandas as pd\n",
    "import numpy as np\n",
    "import matplotlib.pyplot as plt\n",
    "from sklearn.model_selection import train_test_split\n",
    "import torch\n",
    "from torch import nn, optim\n",
    "from torchsummary import summary\n",
    "import time\n",
    "from sklearn.metrics import r2_score"
   ]
  },
  {
   "cell_type": "code",
   "execution_count": 114,
   "id": "suffering-juice",
   "metadata": {
    "scrolled": true
   },
   "outputs": [
    {
     "name": "stdout",
     "output_type": "stream",
     "text": [
      "(119734, 4)\n"
     ]
    },
    {
     "data": {
      "text/html": [
       "<div>\n",
       "<style scoped>\n",
       "    .dataframe tbody tr th:only-of-type {\n",
       "        vertical-align: middle;\n",
       "    }\n",
       "\n",
       "    .dataframe tbody tr th {\n",
       "        vertical-align: top;\n",
       "    }\n",
       "\n",
       "    .dataframe thead th {\n",
       "        text-align: right;\n",
       "    }\n",
       "</style>\n",
       "<table border=\"1\" class=\"dataframe\">\n",
       "  <thead>\n",
       "    <tr style=\"text-align: right;\">\n",
       "      <th></th>\n",
       "      <th>weight</th>\n",
       "      <th>age</th>\n",
       "      <th>height</th>\n",
       "      <th>size</th>\n",
       "    </tr>\n",
       "  </thead>\n",
       "  <tbody>\n",
       "    <tr>\n",
       "      <th>0</th>\n",
       "      <td>62</td>\n",
       "      <td>28.0</td>\n",
       "      <td>172.72</td>\n",
       "      <td>XL</td>\n",
       "    </tr>\n",
       "    <tr>\n",
       "      <th>1</th>\n",
       "      <td>59</td>\n",
       "      <td>36.0</td>\n",
       "      <td>167.64</td>\n",
       "      <td>L</td>\n",
       "    </tr>\n",
       "    <tr>\n",
       "      <th>2</th>\n",
       "      <td>61</td>\n",
       "      <td>34.0</td>\n",
       "      <td>165.10</td>\n",
       "      <td>M</td>\n",
       "    </tr>\n",
       "    <tr>\n",
       "      <th>3</th>\n",
       "      <td>65</td>\n",
       "      <td>27.0</td>\n",
       "      <td>175.26</td>\n",
       "      <td>L</td>\n",
       "    </tr>\n",
       "    <tr>\n",
       "      <th>4</th>\n",
       "      <td>62</td>\n",
       "      <td>45.0</td>\n",
       "      <td>172.72</td>\n",
       "      <td>M</td>\n",
       "    </tr>\n",
       "  </tbody>\n",
       "</table>\n",
       "</div>"
      ],
      "text/plain": [
       "   weight   age  height size\n",
       "0      62  28.0  172.72   XL\n",
       "1      59  36.0  167.64    L\n",
       "2      61  34.0  165.10    M\n",
       "3      65  27.0  175.26    L\n",
       "4      62  45.0  172.72    M"
      ]
     },
     "execution_count": 114,
     "metadata": {},
     "output_type": "execute_result"
    }
   ],
   "source": [
    "# Read data\n",
    "data = pd.read_csv('final_test.csv')\n",
    "print(data.shape)\n",
    "data.head()"
   ]
  },
  {
   "cell_type": "code",
   "execution_count": 115,
   "id": "collected-mediterranean",
   "metadata": {},
   "outputs": [],
   "source": [
    "def map_size(size):\n",
    "    if size == 'XXS':\n",
    "        return 0.0\n",
    "    elif size == 'S':\n",
    "        return 1.0\n",
    "    elif size == 'M':\n",
    "        return 2.0\n",
    "    elif size == 'L':\n",
    "        return 3.0\n",
    "    elif size == 'XL':\n",
    "        return 4.0\n",
    "    elif size == 'XXL':\n",
    "        return 5.0\n",
    "    elif size == 'XXXL':\n",
    "        return 6.0"
   ]
  },
  {
   "cell_type": "code",
   "execution_count": 116,
   "id": "tamil-brisbane",
   "metadata": {},
   "outputs": [],
   "source": [
    "data['size'] = data['size'].apply(map_size)"
   ]
  },
  {
   "cell_type": "code",
   "execution_count": 117,
   "id": "geological-profile",
   "metadata": {
    "scrolled": false
   },
   "outputs": [
    {
     "data": {
      "text/html": [
       "<div>\n",
       "<style scoped>\n",
       "    .dataframe tbody tr th:only-of-type {\n",
       "        vertical-align: middle;\n",
       "    }\n",
       "\n",
       "    .dataframe tbody tr th {\n",
       "        vertical-align: top;\n",
       "    }\n",
       "\n",
       "    .dataframe thead th {\n",
       "        text-align: right;\n",
       "    }\n",
       "</style>\n",
       "<table border=\"1\" class=\"dataframe\">\n",
       "  <thead>\n",
       "    <tr style=\"text-align: right;\">\n",
       "      <th></th>\n",
       "      <th>weight</th>\n",
       "      <th>age</th>\n",
       "      <th>height</th>\n",
       "      <th>size</th>\n",
       "    </tr>\n",
       "  </thead>\n",
       "  <tbody>\n",
       "    <tr>\n",
       "      <th>0</th>\n",
       "      <td>62</td>\n",
       "      <td>28.0</td>\n",
       "      <td>172.72</td>\n",
       "      <td>4.0</td>\n",
       "    </tr>\n",
       "    <tr>\n",
       "      <th>1</th>\n",
       "      <td>59</td>\n",
       "      <td>36.0</td>\n",
       "      <td>167.64</td>\n",
       "      <td>3.0</td>\n",
       "    </tr>\n",
       "    <tr>\n",
       "      <th>2</th>\n",
       "      <td>61</td>\n",
       "      <td>34.0</td>\n",
       "      <td>165.10</td>\n",
       "      <td>2.0</td>\n",
       "    </tr>\n",
       "    <tr>\n",
       "      <th>3</th>\n",
       "      <td>65</td>\n",
       "      <td>27.0</td>\n",
       "      <td>175.26</td>\n",
       "      <td>3.0</td>\n",
       "    </tr>\n",
       "    <tr>\n",
       "      <th>4</th>\n",
       "      <td>62</td>\n",
       "      <td>45.0</td>\n",
       "      <td>172.72</td>\n",
       "      <td>2.0</td>\n",
       "    </tr>\n",
       "  </tbody>\n",
       "</table>\n",
       "</div>"
      ],
      "text/plain": [
       "   weight   age  height  size\n",
       "0      62  28.0  172.72   4.0\n",
       "1      59  36.0  167.64   3.0\n",
       "2      61  34.0  165.10   2.0\n",
       "3      65  27.0  175.26   3.0\n",
       "4      62  45.0  172.72   2.0"
      ]
     },
     "execution_count": 117,
     "metadata": {},
     "output_type": "execute_result"
    }
   ],
   "source": [
    "data.head()"
   ]
  },
  {
   "cell_type": "code",
   "execution_count": 118,
   "id": "north-empty",
   "metadata": {},
   "outputs": [
    {
     "data": {
      "text/plain": [
       "weight      0\n",
       "age       257\n",
       "height    330\n",
       "size        0\n",
       "dtype: int64"
      ]
     },
     "execution_count": 118,
     "metadata": {},
     "output_type": "execute_result"
    }
   ],
   "source": [
    "data.isnull().sum()"
   ]
  },
  {
   "cell_type": "code",
   "execution_count": 119,
   "id": "enhanced-christopher",
   "metadata": {},
   "outputs": [],
   "source": [
    "data = data.dropna()\n",
    "data['weight'] = data['weight'].astype('float64')"
   ]
  },
  {
   "cell_type": "code",
   "execution_count": 120,
   "id": "promotional-information",
   "metadata": {},
   "outputs": [
    {
     "data": {
      "text/plain": [
       "weight    0\n",
       "age       0\n",
       "height    0\n",
       "size      0\n",
       "dtype: int64"
      ]
     },
     "execution_count": 120,
     "metadata": {},
     "output_type": "execute_result"
    }
   ],
   "source": [
    "data.isnull().sum()"
   ]
  },
  {
   "cell_type": "code",
   "execution_count": 121,
   "id": "included-punch",
   "metadata": {},
   "outputs": [],
   "source": [
    "def NormalizeData01(data, min_, max_):\n",
    "    return (data - min_) / (max_ - min_)\n",
    "def NormalizeData(data, min_, max_):\n",
    "    return (2*((data - min_) / (max_ - min_))) - 1\n",
    "\n",
    "data['weight'] = data['weight'].apply(lambda x: NormalizeData(x, data['weight'].min(), data['weight'].max()))     \n",
    "data['age'] = data['age'].apply(lambda x: NormalizeData(x, data['age'].min(), data['age'].max()))      \n",
    "data['height'] = data['height'].apply(lambda x: NormalizeData(x, data['height'].min(), data['height'].max()))     \n",
    "\n"
   ]
  },
  {
   "cell_type": "code",
   "execution_count": 132,
   "id": "korean-therapist",
   "metadata": {},
   "outputs": [
    {
     "data": {
      "text/html": [
       "<div>\n",
       "<style scoped>\n",
       "    .dataframe tbody tr th:only-of-type {\n",
       "        vertical-align: middle;\n",
       "    }\n",
       "\n",
       "    .dataframe tbody tr th {\n",
       "        vertical-align: top;\n",
       "    }\n",
       "\n",
       "    .dataframe thead th {\n",
       "        text-align: right;\n",
       "    }\n",
       "</style>\n",
       "<table border=\"1\" class=\"dataframe\">\n",
       "  <thead>\n",
       "    <tr style=\"text-align: right;\">\n",
       "      <th></th>\n",
       "      <th>weight</th>\n",
       "      <th>age</th>\n",
       "      <th>height</th>\n",
       "      <th>size</th>\n",
       "    </tr>\n",
       "  </thead>\n",
       "  <tbody>\n",
       "    <tr>\n",
       "      <th>0</th>\n",
       "      <td>-0.298246</td>\n",
       "      <td>-0.521368</td>\n",
       "      <td>0.272727</td>\n",
       "      <td>4.0</td>\n",
       "    </tr>\n",
       "    <tr>\n",
       "      <th>1</th>\n",
       "      <td>-0.350877</td>\n",
       "      <td>-0.384615</td>\n",
       "      <td>0.090909</td>\n",
       "      <td>3.0</td>\n",
       "    </tr>\n",
       "    <tr>\n",
       "      <th>2</th>\n",
       "      <td>-0.315789</td>\n",
       "      <td>-0.418803</td>\n",
       "      <td>0.000000</td>\n",
       "      <td>2.0</td>\n",
       "    </tr>\n",
       "    <tr>\n",
       "      <th>3</th>\n",
       "      <td>-0.245614</td>\n",
       "      <td>-0.538462</td>\n",
       "      <td>0.363636</td>\n",
       "      <td>3.0</td>\n",
       "    </tr>\n",
       "    <tr>\n",
       "      <th>4</th>\n",
       "      <td>-0.298246</td>\n",
       "      <td>-0.230769</td>\n",
       "      <td>0.272727</td>\n",
       "      <td>2.0</td>\n",
       "    </tr>\n",
       "  </tbody>\n",
       "</table>\n",
       "</div>"
      ],
      "text/plain": [
       "     weight       age    height  size\n",
       "0 -0.298246 -0.521368  0.272727   4.0\n",
       "1 -0.350877 -0.384615  0.090909   3.0\n",
       "2 -0.315789 -0.418803  0.000000   2.0\n",
       "3 -0.245614 -0.538462  0.363636   3.0\n",
       "4 -0.298246 -0.230769  0.272727   2.0"
      ]
     },
     "execution_count": 132,
     "metadata": {},
     "output_type": "execute_result"
    }
   ],
   "source": [
    "data.head()"
   ]
  },
  {
   "cell_type": "code",
   "execution_count": 123,
   "id": "pregnant-links",
   "metadata": {
    "scrolled": true
   },
   "outputs": [
    {
     "data": {
      "text/html": [
       "<div>\n",
       "<style scoped>\n",
       "    .dataframe tbody tr th:only-of-type {\n",
       "        vertical-align: middle;\n",
       "    }\n",
       "\n",
       "    .dataframe tbody tr th {\n",
       "        vertical-align: top;\n",
       "    }\n",
       "\n",
       "    .dataframe thead th {\n",
       "        text-align: right;\n",
       "    }\n",
       "</style>\n",
       "<table border=\"1\" class=\"dataframe\">\n",
       "  <thead>\n",
       "    <tr style=\"text-align: right;\">\n",
       "      <th></th>\n",
       "      <th>weight</th>\n",
       "      <th>age</th>\n",
       "      <th>height</th>\n",
       "      <th>size</th>\n",
       "    </tr>\n",
       "  </thead>\n",
       "  <tbody>\n",
       "    <tr>\n",
       "      <th>0</th>\n",
       "      <td>-0.298246</td>\n",
       "      <td>-0.521368</td>\n",
       "      <td>0.272727</td>\n",
       "      <td>4.0</td>\n",
       "    </tr>\n",
       "    <tr>\n",
       "      <th>1</th>\n",
       "      <td>-0.350877</td>\n",
       "      <td>-0.384615</td>\n",
       "      <td>0.090909</td>\n",
       "      <td>3.0</td>\n",
       "    </tr>\n",
       "    <tr>\n",
       "      <th>2</th>\n",
       "      <td>-0.315789</td>\n",
       "      <td>-0.418803</td>\n",
       "      <td>0.000000</td>\n",
       "      <td>2.0</td>\n",
       "    </tr>\n",
       "    <tr>\n",
       "      <th>3</th>\n",
       "      <td>-0.245614</td>\n",
       "      <td>-0.538462</td>\n",
       "      <td>0.363636</td>\n",
       "      <td>3.0</td>\n",
       "    </tr>\n",
       "    <tr>\n",
       "      <th>4</th>\n",
       "      <td>-0.298246</td>\n",
       "      <td>-0.230769</td>\n",
       "      <td>0.272727</td>\n",
       "      <td>2.0</td>\n",
       "    </tr>\n",
       "  </tbody>\n",
       "</table>\n",
       "</div>"
      ],
      "text/plain": [
       "     weight       age    height  size\n",
       "0 -0.298246 -0.521368  0.272727   4.0\n",
       "1 -0.350877 -0.384615  0.090909   3.0\n",
       "2 -0.315789 -0.418803  0.000000   2.0\n",
       "3 -0.245614 -0.538462  0.363636   3.0\n",
       "4 -0.298246 -0.230769  0.272727   2.0"
      ]
     },
     "execution_count": 123,
     "metadata": {},
     "output_type": "execute_result"
    }
   ],
   "source": [
    "data.head()"
   ]
  },
  {
   "cell_type": "code",
   "execution_count": 22,
   "id": "bizarre-juvenile",
   "metadata": {},
   "outputs": [
    {
     "name": "stdout",
     "output_type": "stream",
     "text": [
      "Average height in the dataset:  0.5126305346859098\n",
      "Average age in the dataset:  0.2908317153485679\n",
      "Average weight in the dataset:  0.3487439555341827\n",
      "dtype of Height:  float64\n",
      "dtype of Age:  float64\n",
      "dtype of Weight:  float64\n"
     ]
    }
   ],
   "source": [
    "print('Average height in the dataset: ',data.height.mean())\n",
    "print('Average age in the dataset: ',data.age.mean())\n",
    "print('Average weight in the dataset: ',data.weight.mean())\n",
    "print('dtype of Height: ', data.height.dtype)\n",
    "print('dtype of Age: ', data.age.dtype)\n",
    "print('dtype of Weight: ', data.weight.dtype)"
   ]
  },
  {
   "cell_type": "code",
   "execution_count": 124,
   "id": "seeing-ground",
   "metadata": {},
   "outputs": [],
   "source": [
    "X = data[['weight', 'age', 'height']]\n",
    "Y = data['size']\n",
    "X = X.values\n",
    "Y = Y.values\n",
    "\n",
    "# DATASET 80-10-10 SPLIT PROPORTION TRAIN-VALIDATE-TEST RESPECTIVELY\n",
    "\n",
    "X_train, X_val_test, Y_train, Y_val_test = train_test_split(X, Y, test_size=0.2, random_state=42)\n",
    "X_val, X_test, Y_val, Y_test = train_test_split(X_val_test, Y_val_test, test_size=0.5, random_state=42)"
   ]
  },
  {
   "cell_type": "code",
   "execution_count": 125,
   "id": "exposed-practitioner",
   "metadata": {},
   "outputs": [],
   "source": [
    "# CONVERTING DATA TO TENSORS\n",
    "\n",
    "X_train = torch.from_numpy(X_train).type(torch.FloatTensor)\n",
    "\n",
    "X_val = torch.from_numpy(X_val).type(torch.FloatTensor)\n",
    "\n",
    "X_test = torch.from_numpy(X_test).type(torch.FloatTensor)\n",
    "\n",
    "Y_train = torch.from_numpy(Y_train).type(torch.FloatTensor)\n",
    "\n",
    "Y_val = torch.from_numpy(Y_val).type(torch.FloatTensor)\n",
    "\n",
    "# SETTING TENSOR DATASETS\n",
    "\n",
    "train_tensor = torch.utils.data.TensorDataset(X_train, Y_train)\n",
    "\n",
    "validation_tensor = torch.utils.data.TensorDataset(X_val, Y_val)\n",
    "\n",
    "test_tensor = torch.utils.data.TensorDataset(X_test)\n",
    "\n",
    "# FINAL DATA LOADERS - SETTING BATCH CONFIGURATION\n",
    "\n",
    "train_loader = torch.utils.data.DataLoader(train_tensor,\n",
    "                                           batch_size=64,\n",
    "                                           shuffle=True)\n",
    "\n",
    "validation_loader = torch.utils.data.DataLoader(validation_tensor,\n",
    "                                                batch_size=64,\n",
    "                                                shuffle=False)\n",
    "\n",
    "test_loader = torch.utils.data.DataLoader(test_tensor,\n",
    "                                          batch_size=64,\n",
    "                                          shuffle=False)\n"
   ]
  },
  {
   "cell_type": "code",
   "execution_count": 126,
   "id": "married-profile",
   "metadata": {},
   "outputs": [],
   "source": [
    "# MODEL SET-UP\n",
    "\n",
    "input_size = 3\n",
    "hidden_sizes = [64, 64]\n",
    "output_size = 7\n",
    "device = torch.device('cuda' if torch.cuda.is_available() else 'cpu')\n",
    "\n",
    "model = nn.Sequential(nn.Linear(input_size, hidden_sizes[0]),\n",
    "                      nn.ReLU(),\n",
    "                      nn.Linear(hidden_sizes[0], hidden_sizes[1]),\n",
    "                      nn.ReLU(),\n",
    "                      nn.Linear(hidden_sizes[1], output_size),\n",
    "                      )"
   ]
  },
  {
   "cell_type": "code",
   "execution_count": 127,
   "id": "educational-mistake",
   "metadata": {},
   "outputs": [],
   "source": [
    "# XAVIER'S WEIGHTS INITIALIZATION\n",
    "\n",
    "for name, module in model.named_modules():\n",
    "    if isinstance(module, torch.nn.Linear):\n",
    "        torch.nn.init.xavier_uniform_(module.weight, gain=1.0)"
   ]
  },
  {
   "cell_type": "code",
   "execution_count": 130,
   "id": "affecting-raising",
   "metadata": {},
   "outputs": [],
   "source": [
    "# PRE-TRAINING SET-UP\n",
    "\n",
    "optimizer = optim.Adam(model.parameters(), lr=0.01) # , momentum=0.9\n",
    "epochs = 100\n",
    "criterion = nn.CrossEntropyLoss()\n",
    "model.to(device)\n",
    "running_loss = 0\n",
    "steps = 0\n",
    "best_model_r2 = 0"
   ]
  },
  {
   "cell_type": "code",
   "execution_count": 131,
   "id": "graphic-january",
   "metadata": {},
   "outputs": [
    {
     "name": "stdout",
     "output_type": "stream",
     "text": [
      "Training Started!\n",
      "Epoch number:  1\n",
      "Train loss: 1.1171.. Valid loss: 1.1377.. Valid accuracy: 67.64736..\n",
      "Train loss: 1.1331.. Valid loss: 1.1424.. Valid accuracy: 65.93394..\n",
      "Train loss: 1.1285.. Valid loss: 1.1369.. Valid accuracy: 65.15111..\n",
      "Train loss: 1.1338.. Valid loss: 1.1374.. Valid accuracy: 65.89456..\n",
      "Train loss: 1.1360.. Valid loss: 1.1358.. Valid accuracy: 65.99533..\n",
      "Epoch number:  2\n",
      "Train loss: 1.1427.. Valid loss: 1.1330.. Valid accuracy: 66.90835..\n",
      "Train loss: 1.1224.. Valid loss: 1.1405.. Valid accuracy: 64.01794..\n",
      "Train loss: 1.1292.. Valid loss: 1.1345.. Valid accuracy: 65.14553..\n",
      "Train loss: 1.1288.. Valid loss: 1.1325.. Valid accuracy: 66.04127..\n",
      "Train loss: 1.1245.. Valid loss: 1.1342.. Valid accuracy: 65.95438..\n",
      "Epoch number:  3\n",
      "Train loss: 1.1381.. Valid loss: 1.1398.. Valid accuracy: 63.96949..\n",
      "Train loss: 1.1248.. Valid loss: 1.1364.. Valid accuracy: 66.23964..\n",
      "Train loss: 1.1345.. Valid loss: 1.1338.. Valid accuracy: 66.26135..\n",
      "Train loss: 1.1255.. Valid loss: 1.1480.. Valid accuracy: 63.84096..\n",
      "Train loss: 1.1196.. Valid loss: 1.1445.. Valid accuracy: 67.17547..\n",
      "Epoch number:  4\n",
      "Train loss: 1.1178.. Valid loss: 1.1452.. Valid accuracy: 64.98887..\n",
      "Train loss: 1.1338.. Valid loss: 1.1389.. Valid accuracy: 66.90286..\n",
      "Train loss: 1.1246.. Valid loss: 1.1389.. Valid accuracy: 66.39555..\n",
      "Train loss: 1.1411.. Valid loss: 1.1312.. Valid accuracy: 66.17812..\n",
      "Train loss: 1.1258.. Valid loss: 1.1342.. Valid accuracy: 66.17152..\n",
      "Epoch number:  5\n",
      "Train loss: 1.1225.. Valid loss: 1.1336.. Valid accuracy: 66.52072..\n"
     ]
    },
    {
     "ename": "KeyboardInterrupt",
     "evalue": "",
     "output_type": "error",
     "traceback": [
      "\u001b[1;31m---------------------------------------------------------------------------\u001b[0m",
      "\u001b[1;31mKeyboardInterrupt\u001b[0m                         Traceback (most recent call last)",
      "\u001b[1;32m<ipython-input-131-7e194d168560>\u001b[0m in \u001b[0;36m<module>\u001b[1;34m\u001b[0m\n\u001b[0;32m     18\u001b[0m \u001b[1;33m\u001b[0m\u001b[0m\n\u001b[0;32m     19\u001b[0m         \u001b[0mloss\u001b[0m\u001b[1;33m.\u001b[0m\u001b[0mbackward\u001b[0m\u001b[1;33m(\u001b[0m\u001b[1;33m)\u001b[0m\u001b[1;33m\u001b[0m\u001b[1;33m\u001b[0m\u001b[0m\n\u001b[1;32m---> 20\u001b[1;33m         \u001b[0moptimizer\u001b[0m\u001b[1;33m.\u001b[0m\u001b[0mstep\u001b[0m\u001b[1;33m(\u001b[0m\u001b[1;33m)\u001b[0m\u001b[1;33m\u001b[0m\u001b[1;33m\u001b[0m\u001b[0m\n\u001b[0m\u001b[0;32m     21\u001b[0m \u001b[1;33m\u001b[0m\u001b[0m\n\u001b[0;32m     22\u001b[0m         \u001b[0mrunning_loss\u001b[0m \u001b[1;33m+=\u001b[0m \u001b[0mloss\u001b[0m\u001b[1;33m.\u001b[0m\u001b[0mitem\u001b[0m\u001b[1;33m(\u001b[0m\u001b[1;33m)\u001b[0m\u001b[1;33m\u001b[0m\u001b[1;33m\u001b[0m\u001b[0m\n",
      "\u001b[1;32mc:\\users\\juand\\appdata\\local\\programs\\python\\python38\\lib\\site-packages\\torch\\optim\\optimizer.py\u001b[0m in \u001b[0;36mwrapper\u001b[1;34m(*args, **kwargs)\u001b[0m\n\u001b[0;32m     87\u001b[0m                 \u001b[0mprofile_name\u001b[0m \u001b[1;33m=\u001b[0m \u001b[1;34m\"Optimizer.step#{}.step\"\u001b[0m\u001b[1;33m.\u001b[0m\u001b[0mformat\u001b[0m\u001b[1;33m(\u001b[0m\u001b[0mobj\u001b[0m\u001b[1;33m.\u001b[0m\u001b[0m__class__\u001b[0m\u001b[1;33m.\u001b[0m\u001b[0m__name__\u001b[0m\u001b[1;33m)\u001b[0m\u001b[1;33m\u001b[0m\u001b[1;33m\u001b[0m\u001b[0m\n\u001b[0;32m     88\u001b[0m                 \u001b[1;32mwith\u001b[0m \u001b[0mtorch\u001b[0m\u001b[1;33m.\u001b[0m\u001b[0mautograd\u001b[0m\u001b[1;33m.\u001b[0m\u001b[0mprofiler\u001b[0m\u001b[1;33m.\u001b[0m\u001b[0mrecord_function\u001b[0m\u001b[1;33m(\u001b[0m\u001b[0mprofile_name\u001b[0m\u001b[1;33m)\u001b[0m\u001b[1;33m:\u001b[0m\u001b[1;33m\u001b[0m\u001b[1;33m\u001b[0m\u001b[0m\n\u001b[1;32m---> 89\u001b[1;33m                     \u001b[1;32mreturn\u001b[0m \u001b[0mfunc\u001b[0m\u001b[1;33m(\u001b[0m\u001b[1;33m*\u001b[0m\u001b[0margs\u001b[0m\u001b[1;33m,\u001b[0m \u001b[1;33m**\u001b[0m\u001b[0mkwargs\u001b[0m\u001b[1;33m)\u001b[0m\u001b[1;33m\u001b[0m\u001b[1;33m\u001b[0m\u001b[0m\n\u001b[0m\u001b[0;32m     90\u001b[0m             \u001b[1;32mreturn\u001b[0m \u001b[0mwrapper\u001b[0m\u001b[1;33m\u001b[0m\u001b[1;33m\u001b[0m\u001b[0m\n\u001b[0;32m     91\u001b[0m \u001b[1;33m\u001b[0m\u001b[0m\n",
      "\u001b[1;32mc:\\users\\juand\\appdata\\local\\programs\\python\\python38\\lib\\site-packages\\torch\\autograd\\grad_mode.py\u001b[0m in \u001b[0;36mdecorate_context\u001b[1;34m(*args, **kwargs)\u001b[0m\n\u001b[0;32m     25\u001b[0m         \u001b[1;32mdef\u001b[0m \u001b[0mdecorate_context\u001b[0m\u001b[1;33m(\u001b[0m\u001b[1;33m*\u001b[0m\u001b[0margs\u001b[0m\u001b[1;33m,\u001b[0m \u001b[1;33m**\u001b[0m\u001b[0mkwargs\u001b[0m\u001b[1;33m)\u001b[0m\u001b[1;33m:\u001b[0m\u001b[1;33m\u001b[0m\u001b[1;33m\u001b[0m\u001b[0m\n\u001b[0;32m     26\u001b[0m             \u001b[1;32mwith\u001b[0m \u001b[0mself\u001b[0m\u001b[1;33m.\u001b[0m\u001b[0m__class__\u001b[0m\u001b[1;33m(\u001b[0m\u001b[1;33m)\u001b[0m\u001b[1;33m:\u001b[0m\u001b[1;33m\u001b[0m\u001b[1;33m\u001b[0m\u001b[0m\n\u001b[1;32m---> 27\u001b[1;33m                 \u001b[1;32mreturn\u001b[0m \u001b[0mfunc\u001b[0m\u001b[1;33m(\u001b[0m\u001b[1;33m*\u001b[0m\u001b[0margs\u001b[0m\u001b[1;33m,\u001b[0m \u001b[1;33m**\u001b[0m\u001b[0mkwargs\u001b[0m\u001b[1;33m)\u001b[0m\u001b[1;33m\u001b[0m\u001b[1;33m\u001b[0m\u001b[0m\n\u001b[0m\u001b[0;32m     28\u001b[0m         \u001b[1;32mreturn\u001b[0m \u001b[0mcast\u001b[0m\u001b[1;33m(\u001b[0m\u001b[0mF\u001b[0m\u001b[1;33m,\u001b[0m \u001b[0mdecorate_context\u001b[0m\u001b[1;33m)\u001b[0m\u001b[1;33m\u001b[0m\u001b[1;33m\u001b[0m\u001b[0m\n\u001b[0;32m     29\u001b[0m \u001b[1;33m\u001b[0m\u001b[0m\n",
      "\u001b[1;32mc:\\users\\juand\\appdata\\local\\programs\\python\\python38\\lib\\site-packages\\torch\\optim\\adam.py\u001b[0m in \u001b[0;36mstep\u001b[1;34m(self, closure)\u001b[0m\n\u001b[0;32m    106\u001b[0m \u001b[1;33m\u001b[0m\u001b[0m\n\u001b[0;32m    107\u001b[0m             \u001b[0mbeta1\u001b[0m\u001b[1;33m,\u001b[0m \u001b[0mbeta2\u001b[0m \u001b[1;33m=\u001b[0m \u001b[0mgroup\u001b[0m\u001b[1;33m[\u001b[0m\u001b[1;34m'betas'\u001b[0m\u001b[1;33m]\u001b[0m\u001b[1;33m\u001b[0m\u001b[1;33m\u001b[0m\u001b[0m\n\u001b[1;32m--> 108\u001b[1;33m             F.adam(params_with_grad,\n\u001b[0m\u001b[0;32m    109\u001b[0m                    \u001b[0mgrads\u001b[0m\u001b[1;33m,\u001b[0m\u001b[1;33m\u001b[0m\u001b[1;33m\u001b[0m\u001b[0m\n\u001b[0;32m    110\u001b[0m                    \u001b[0mexp_avgs\u001b[0m\u001b[1;33m,\u001b[0m\u001b[1;33m\u001b[0m\u001b[1;33m\u001b[0m\u001b[0m\n",
      "\u001b[1;32mc:\\users\\juand\\appdata\\local\\programs\\python\\python38\\lib\\site-packages\\torch\\optim\\_functional.py\u001b[0m in \u001b[0;36madam\u001b[1;34m(params, grads, exp_avgs, exp_avg_sqs, max_exp_avg_sqs, state_steps, amsgrad, beta1, beta2, lr, weight_decay, eps)\u001b[0m\n\u001b[0;32m     82\u001b[0m \u001b[1;33m\u001b[0m\u001b[0m\n\u001b[0;32m     83\u001b[0m         \u001b[1;31m# Decay the first and second moment running average coefficient\u001b[0m\u001b[1;33m\u001b[0m\u001b[1;33m\u001b[0m\u001b[1;33m\u001b[0m\u001b[0m\n\u001b[1;32m---> 84\u001b[1;33m         \u001b[0mexp_avg\u001b[0m\u001b[1;33m.\u001b[0m\u001b[0mmul_\u001b[0m\u001b[1;33m(\u001b[0m\u001b[0mbeta1\u001b[0m\u001b[1;33m)\u001b[0m\u001b[1;33m.\u001b[0m\u001b[0madd_\u001b[0m\u001b[1;33m(\u001b[0m\u001b[0mgrad\u001b[0m\u001b[1;33m,\u001b[0m \u001b[0malpha\u001b[0m\u001b[1;33m=\u001b[0m\u001b[1;36m1\u001b[0m \u001b[1;33m-\u001b[0m \u001b[0mbeta1\u001b[0m\u001b[1;33m)\u001b[0m\u001b[1;33m\u001b[0m\u001b[1;33m\u001b[0m\u001b[0m\n\u001b[0m\u001b[0;32m     85\u001b[0m         \u001b[0mexp_avg_sq\u001b[0m\u001b[1;33m.\u001b[0m\u001b[0mmul_\u001b[0m\u001b[1;33m(\u001b[0m\u001b[0mbeta2\u001b[0m\u001b[1;33m)\u001b[0m\u001b[1;33m.\u001b[0m\u001b[0maddcmul_\u001b[0m\u001b[1;33m(\u001b[0m\u001b[0mgrad\u001b[0m\u001b[1;33m,\u001b[0m \u001b[0mgrad\u001b[0m\u001b[1;33m,\u001b[0m \u001b[0mvalue\u001b[0m\u001b[1;33m=\u001b[0m\u001b[1;36m1\u001b[0m \u001b[1;33m-\u001b[0m \u001b[0mbeta2\u001b[0m\u001b[1;33m)\u001b[0m\u001b[1;33m\u001b[0m\u001b[1;33m\u001b[0m\u001b[0m\n\u001b[0;32m     86\u001b[0m         \u001b[1;32mif\u001b[0m \u001b[0mamsgrad\u001b[0m\u001b[1;33m:\u001b[0m\u001b[1;33m\u001b[0m\u001b[1;33m\u001b[0m\u001b[0m\n",
      "\u001b[1;31mKeyboardInterrupt\u001b[0m: "
     ]
    }
   ],
   "source": [
    "# TRAINING START\n",
    "\n",
    "print('Training Started!')\n",
    "start = time.time()\n",
    "for e in range(epochs):\n",
    "    print('Epoch number: ', e + 1)\n",
    "\n",
    "    for inputs, labels in train_loader:\n",
    "\n",
    "        # TRAINING LOOP\n",
    "\n",
    "        inputs, labels = inputs.float(), labels.float()\n",
    "        inputs, labels = inputs.to(device), labels.to(device)\n",
    "\n",
    "        optimizer.zero_grad()\n",
    "        outputs = model(inputs)\n",
    "        loss = criterion(outputs, labels.long())\n",
    "\n",
    "        loss.backward()\n",
    "        optimizer.step()\n",
    "\n",
    "        running_loss += loss.item()\n",
    "\n",
    "        steps += 1\n",
    "\n",
    "        # 10 VALIDATION LOOPS PER EPOCH\n",
    "        \n",
    "        if steps == int(len(train_loader) / 5):\n",
    "            sanity = []\n",
    "            model.eval()\n",
    "            accuracy = 0\n",
    "            valid_loss = 0\n",
    "\n",
    "            with torch.no_grad():\n",
    "\n",
    "                for inputs, labels in validation_loader:\n",
    "\n",
    "                    # VALIDATION LOOP\n",
    "\n",
    "                    inputs, labels = inputs.float(), labels.float()\n",
    "                    inputs, labels = inputs.to(device), labels.to(device)\n",
    "\n",
    "                    outputs = model(inputs)\n",
    "\n",
    "                    loss_valid = criterion(outputs, labels.long())\n",
    "                    valid_loss += loss_valid.item()\n",
    "                    \n",
    "                    labels = labels.cpu()\n",
    "                    outputs = outputs.cpu()\n",
    "                    # print(outputs)\n",
    "                    _, outputs = torch.max(outputs.data, 1)\n",
    "                    # print(outputs)\n",
    "                    accuracy += r2_score(labels, outputs)\n",
    "                    #top_p, top_class = outputs.topk(1, dim=1)\n",
    "                    #equals = top_class == labels.view(*top_class.shape)\n",
    "                    #accuracy += torch.mean(equals.type(torch.FloatTensor)).item()\n",
    "                    \n",
    "                overall_accuracy = (accuracy * 100) / len(validation_loader)\n",
    "                if overall_accuracy > best_model_r2:\n",
    "                    best_model_r2 = overall_accuracy\n",
    "                    torch.save(model, 'clothing_size.pth')\n",
    "                print(\n",
    "                    f\"Train loss: {running_loss / steps:.4f}.. \"\n",
    "                    f\"Valid loss: {valid_loss / len(validation_loader):.4f}.. \"\n",
    "                    f\"Valid accuracy: {(accuracy * 100) / len(validation_loader):.5f}..\")\n",
    "\n",
    "            running_loss = 0\n",
    "            steps = 0\n",
    "            model.train()\n",
    "\n",
    "print('Training finished!')\n",
    "print('Training lasted: ', time.time() - start)\n"
   ]
  },
  {
   "cell_type": "code",
   "execution_count": null,
   "id": "critical-diagnosis",
   "metadata": {},
   "outputs": [],
   "source": [
    "summary(model)"
   ]
  },
  {
   "cell_type": "code",
   "execution_count": 133,
   "id": "approximate-surfing",
   "metadata": {},
   "outputs": [],
   "source": [
    "outputs = model(torch.Tensor([60,20,170]).to(device))"
   ]
  },
  {
   "cell_type": "code",
   "execution_count": 134,
   "id": "focused-waterproof",
   "metadata": {},
   "outputs": [
    {
     "data": {
      "text/plain": [
       "tensor([-539.0180, -429.9799, -151.1080,   55.7743,  128.6117, -190.9920,\n",
       "         178.3546], device='cuda:0', grad_fn=<AddBackward0>)"
      ]
     },
     "execution_count": 134,
     "metadata": {},
     "output_type": "execute_result"
    }
   ],
   "source": [
    "outputs"
   ]
  },
  {
   "cell_type": "code",
   "execution_count": null,
   "id": "international-circulation",
   "metadata": {},
   "outputs": [],
   "source": []
  }
 ],
 "metadata": {
  "kernelspec": {
   "display_name": "Python 3",
   "language": "python",
   "name": "python3"
  },
  "language_info": {
   "codemirror_mode": {
    "name": "ipython",
    "version": 3
   },
   "file_extension": ".py",
   "mimetype": "text/x-python",
   "name": "python",
   "nbconvert_exporter": "python",
   "pygments_lexer": "ipython3",
   "version": "3.8.6"
  }
 },
 "nbformat": 4,
 "nbformat_minor": 5
}
