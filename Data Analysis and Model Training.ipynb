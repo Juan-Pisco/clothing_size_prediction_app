{
 "cells": [
  {
   "cell_type": "markdown",
   "id": "trying-secondary",
   "metadata": {},
   "source": [
    "# Title here"
   ]
  },
  {
   "cell_type": "code",
   "execution_count": 53,
   "id": "adaptive-integer",
   "metadata": {},
   "outputs": [],
   "source": [
    "# Import statements\n",
    "\n",
    "import pandas as pd\n",
    "import numpy as np\n",
    "import matplotlib.pyplot as plt\n",
    "from sklearn.model_selection import train_test_split\n",
    "import torch\n",
    "from torch import nn, optim\n",
    "from torchsummary import summary\n",
    "import time\n",
    "from sklearn.metrics import r2_score"
   ]
  },
  {
   "cell_type": "code",
   "execution_count": 54,
   "id": "suffering-juice",
   "metadata": {
    "scrolled": true
   },
   "outputs": [
    {
     "name": "stdout",
     "output_type": "stream",
     "text": [
      "(119734, 4)\n"
     ]
    },
    {
     "data": {
      "text/html": [
       "<div>\n",
       "<style scoped>\n",
       "    .dataframe tbody tr th:only-of-type {\n",
       "        vertical-align: middle;\n",
       "    }\n",
       "\n",
       "    .dataframe tbody tr th {\n",
       "        vertical-align: top;\n",
       "    }\n",
       "\n",
       "    .dataframe thead th {\n",
       "        text-align: right;\n",
       "    }\n",
       "</style>\n",
       "<table border=\"1\" class=\"dataframe\">\n",
       "  <thead>\n",
       "    <tr style=\"text-align: right;\">\n",
       "      <th></th>\n",
       "      <th>weight</th>\n",
       "      <th>age</th>\n",
       "      <th>height</th>\n",
       "      <th>size</th>\n",
       "    </tr>\n",
       "  </thead>\n",
       "  <tbody>\n",
       "    <tr>\n",
       "      <th>0</th>\n",
       "      <td>62</td>\n",
       "      <td>28.0</td>\n",
       "      <td>172.72</td>\n",
       "      <td>XL</td>\n",
       "    </tr>\n",
       "    <tr>\n",
       "      <th>1</th>\n",
       "      <td>59</td>\n",
       "      <td>36.0</td>\n",
       "      <td>167.64</td>\n",
       "      <td>L</td>\n",
       "    </tr>\n",
       "    <tr>\n",
       "      <th>2</th>\n",
       "      <td>61</td>\n",
       "      <td>34.0</td>\n",
       "      <td>165.10</td>\n",
       "      <td>M</td>\n",
       "    </tr>\n",
       "    <tr>\n",
       "      <th>3</th>\n",
       "      <td>65</td>\n",
       "      <td>27.0</td>\n",
       "      <td>175.26</td>\n",
       "      <td>L</td>\n",
       "    </tr>\n",
       "    <tr>\n",
       "      <th>4</th>\n",
       "      <td>62</td>\n",
       "      <td>45.0</td>\n",
       "      <td>172.72</td>\n",
       "      <td>M</td>\n",
       "    </tr>\n",
       "  </tbody>\n",
       "</table>\n",
       "</div>"
      ],
      "text/plain": [
       "   weight   age  height size\n",
       "0      62  28.0  172.72   XL\n",
       "1      59  36.0  167.64    L\n",
       "2      61  34.0  165.10    M\n",
       "3      65  27.0  175.26    L\n",
       "4      62  45.0  172.72    M"
      ]
     },
     "execution_count": 54,
     "metadata": {},
     "output_type": "execute_result"
    }
   ],
   "source": [
    "# Read data\n",
    "data = pd.read_csv('final_test.csv')\n",
    "print(data.shape)\n",
    "data.head()"
   ]
  },
  {
   "cell_type": "code",
   "execution_count": 22,
   "id": "bizarre-juvenile",
   "metadata": {},
   "outputs": [
    {
     "name": "stdout",
     "output_type": "stream",
     "text": [
      "Average height in the dataset:  0.5126305346859098\n",
      "Average age in the dataset:  0.2908317153485679\n",
      "Average weight in the dataset:  0.3487439555341827\n",
      "dtype of Height:  float64\n",
      "dtype of Age:  float64\n",
      "dtype of Weight:  float64\n"
     ]
    }
   ],
   "source": [
    "print('Average height in the dataset: ',data.height.mean())\n",
    "print('Average age in the dataset: ',data.age.mean())\n",
    "print('Average weight in the dataset: ',data.weight.mean())\n",
    "print('dtype of Height: ', data.height.dtype)\n",
    "print('dtype of Age: ', data.age.dtype)\n",
    "print('dtype of Weight: ', data.weight.dtype)"
   ]
  },
  {
   "cell_type": "code",
   "execution_count": 55,
   "id": "collected-mediterranean",
   "metadata": {},
   "outputs": [],
   "source": [
    "def map_size(size):\n",
    "    if size == 'XXS':\n",
    "        return 0.0\n",
    "    elif size == 'S':\n",
    "        return 1.0\n",
    "    elif size == 'M':\n",
    "        return 2.0\n",
    "    elif size == 'L':\n",
    "        return 3.0\n",
    "    elif size == 'XL':\n",
    "        return 4.0\n",
    "    elif size == 'XXL':\n",
    "        return 5.0\n",
    "    elif size == 'XXXL':\n",
    "        return 6.0"
   ]
  },
  {
   "cell_type": "code",
   "execution_count": 56,
   "id": "tamil-brisbane",
   "metadata": {},
   "outputs": [],
   "source": [
    "data = data.dropna()\n",
    "data['weight'] = data['weight'].astype('float64')\n",
    "data['size'] = data['size'].apply(map_size)\n"
   ]
  },
  {
   "cell_type": "code",
   "execution_count": 57,
   "id": "geological-profile",
   "metadata": {
    "scrolled": false
   },
   "outputs": [
    {
     "data": {
      "text/html": [
       "<div>\n",
       "<style scoped>\n",
       "    .dataframe tbody tr th:only-of-type {\n",
       "        vertical-align: middle;\n",
       "    }\n",
       "\n",
       "    .dataframe tbody tr th {\n",
       "        vertical-align: top;\n",
       "    }\n",
       "\n",
       "    .dataframe thead th {\n",
       "        text-align: right;\n",
       "    }\n",
       "</style>\n",
       "<table border=\"1\" class=\"dataframe\">\n",
       "  <thead>\n",
       "    <tr style=\"text-align: right;\">\n",
       "      <th></th>\n",
       "      <th>weight</th>\n",
       "      <th>age</th>\n",
       "      <th>height</th>\n",
       "      <th>size</th>\n",
       "    </tr>\n",
       "  </thead>\n",
       "  <tbody>\n",
       "    <tr>\n",
       "      <th>0</th>\n",
       "      <td>62.0</td>\n",
       "      <td>28.0</td>\n",
       "      <td>172.72</td>\n",
       "      <td>4.0</td>\n",
       "    </tr>\n",
       "    <tr>\n",
       "      <th>1</th>\n",
       "      <td>59.0</td>\n",
       "      <td>36.0</td>\n",
       "      <td>167.64</td>\n",
       "      <td>3.0</td>\n",
       "    </tr>\n",
       "    <tr>\n",
       "      <th>2</th>\n",
       "      <td>61.0</td>\n",
       "      <td>34.0</td>\n",
       "      <td>165.10</td>\n",
       "      <td>2.0</td>\n",
       "    </tr>\n",
       "    <tr>\n",
       "      <th>3</th>\n",
       "      <td>65.0</td>\n",
       "      <td>27.0</td>\n",
       "      <td>175.26</td>\n",
       "      <td>3.0</td>\n",
       "    </tr>\n",
       "    <tr>\n",
       "      <th>4</th>\n",
       "      <td>62.0</td>\n",
       "      <td>45.0</td>\n",
       "      <td>172.72</td>\n",
       "      <td>2.0</td>\n",
       "    </tr>\n",
       "  </tbody>\n",
       "</table>\n",
       "</div>"
      ],
      "text/plain": [
       "   weight   age  height  size\n",
       "0    62.0  28.0  172.72   4.0\n",
       "1    59.0  36.0  167.64   3.0\n",
       "2    61.0  34.0  165.10   2.0\n",
       "3    65.0  27.0  175.26   3.0\n",
       "4    62.0  45.0  172.72   2.0"
      ]
     },
     "execution_count": 57,
     "metadata": {},
     "output_type": "execute_result"
    }
   ],
   "source": [
    "data.head()"
   ]
  },
  {
   "cell_type": "code",
   "execution_count": null,
   "id": "included-punch",
   "metadata": {},
   "outputs": [],
   "source": [
    "def NormalizeData01(data, min_, max_):\n",
    "    return (data - min_) / (max_ - min_)\n",
    "def NormalizeData(data, min_, max_):\n",
    "    return (2*((data - min_) / (max_ - min_))) - 1\n",
    "\n",
    "data['weight'] = data['weight'].apply(lambda x: NormalizeData01(x, data['weight'].min(), data['weight'].max()))     \n",
    "data['age'] = data['age'].apply(lambda x: NormalizeData01(x, data['age'].min(), data['age'].max()))      \n",
    "data['height'] = data['height'].apply(lambda x: NormalizeData01(x, data['height'].min(), data['height'].max()))     \n",
    "\n"
   ]
  },
  {
   "cell_type": "code",
   "execution_count": null,
   "id": "seeing-ground",
   "metadata": {},
   "outputs": [],
   "source": [
    "X = data[['weight', 'age', 'height']]\n",
    "Y = data['size']\n",
    "X = X.values\n",
    "Y = Y.values\n",
    "\n",
    "# DATASET 80-10-10 SPLIT PROPORTION TRAIN-VALIDATE-TEST RESPECTIVELY\n",
    "\n",
    "X_train, X_val_test, Y_train, Y_val_test = train_test_split(X, Y, test_size=0.4, random_state=42)\n",
    "X_val, X_test, Y_val, Y_test = train_test_split(X_val_test, Y_val_test, test_size=0.5, random_state=42)"
   ]
  },
  {
   "cell_type": "code",
   "execution_count": null,
   "id": "exposed-practitioner",
   "metadata": {},
   "outputs": [],
   "source": [
    "# CONVERTING DATA TO TENSORS\n",
    "\n",
    "X_train = torch.from_numpy(X_train).type(torch.FloatTensor)\n",
    "\n",
    "X_val = torch.from_numpy(X_val).type(torch.FloatTensor)\n",
    "\n",
    "X_test = torch.from_numpy(X_test).type(torch.FloatTensor)\n",
    "\n",
    "Y_train = torch.from_numpy(Y_train).type(torch.FloatTensor)\n",
    "\n",
    "Y_val = torch.from_numpy(Y_val).type(torch.FloatTensor)\n",
    "\n",
    "# SETTING TENSOR DATASETS\n",
    "\n",
    "train_tensor = torch.utils.data.TensorDataset(X_train, Y_train)\n",
    "\n",
    "validation_tensor = torch.utils.data.TensorDataset(X_val, Y_val)\n",
    "\n",
    "test_tensor = torch.utils.data.TensorDataset(X_test)\n",
    "\n",
    "# FINAL DATA LOADERS - SETTING BATCH CONFIGURATION\n",
    "\n",
    "train_loader = torch.utils.data.DataLoader(train_tensor,\n",
    "                                           batch_size=64,\n",
    "                                           shuffle=True)\n",
    "\n",
    "validation_loader = torch.utils.data.DataLoader(validation_tensor,\n",
    "                                                batch_size=64,\n",
    "                                                shuffle=False)\n",
    "\n",
    "test_loader = torch.utils.data.DataLoader(test_tensor,\n",
    "                                          batch_size=64,\n",
    "                                          shuffle=False)\n"
   ]
  },
  {
   "cell_type": "code",
   "execution_count": null,
   "id": "married-profile",
   "metadata": {},
   "outputs": [],
   "source": [
    "# MODEL SET-UP\n",
    "\n",
    "input_size = 3\n",
    "hidden_sizes = [64, 64]\n",
    "output_size = 7\n",
    "device = torch.device('cuda' if torch.cuda.is_available() else 'cpu')\n",
    "\n",
    "model = nn.Sequential(nn.Linear(input_size, hidden_sizes[0]),\n",
    "                      nn.LeakyReLU(),\n",
    "                      nn.Linear(hidden_sizes[0], hidden_sizes[1]),\n",
    "                      nn.LeakyReLU(),\n",
    "                      nn.Linear(hidden_sizes[1], output_size),\n",
    "                      )"
   ]
  },
  {
   "cell_type": "code",
   "execution_count": null,
   "id": "educational-mistake",
   "metadata": {},
   "outputs": [],
   "source": [
    "# XAVIER'S WEIGHTS INITIALIZATION\n",
    "\n",
    "for name, module in model.named_modules():\n",
    "    if isinstance(module, torch.nn.Linear):\n",
    "        torch.nn.init.xavier_uniform_(module.weight, gain=1.0)"
   ]
  },
  {
   "cell_type": "code",
   "execution_count": null,
   "id": "affecting-raising",
   "metadata": {},
   "outputs": [],
   "source": [
    "# PRE-TRAINING SET-UP\n",
    "\n",
    "optimizer = optim.Adam(model.parameters(), lr=0.01) # , momentum=0.9\n",
    "epochs = 100\n",
    "criterion = nn.CrossEntropyLoss()\n",
    "model.to(device)\n",
    "running_loss = 0\n",
    "steps = 0\n",
    "best_model_r2 = 0"
   ]
  },
  {
   "cell_type": "code",
   "execution_count": null,
   "id": "graphic-january",
   "metadata": {},
   "outputs": [],
   "source": [
    "# TRAINING START\n",
    "\n",
    "print('Training Started!')\n",
    "start = time.time()\n",
    "for e in range(epochs):\n",
    "    print('Epoch number: ', e + 1)\n",
    "\n",
    "    for inputs, labels in train_loader:\n",
    "\n",
    "        # TRAINING LOOP\n",
    "\n",
    "        inputs, labels = inputs.float(), labels.float()\n",
    "        inputs, labels = inputs.to(device), labels.to(device)\n",
    "\n",
    "        optimizer.zero_grad()\n",
    "        outputs = model(inputs)\n",
    "        loss = criterion(outputs, labels.long())\n",
    "\n",
    "        loss.backward()\n",
    "        optimizer.step()\n",
    "\n",
    "        running_loss += loss.item()\n",
    "\n",
    "        steps += 1\n",
    "\n",
    "        # 10 VALIDATION LOOPS PER EPOCH\n",
    "        \n",
    "        if steps == int(len(train_loader) / 5):\n",
    "            sanity = []\n",
    "            model.eval()\n",
    "            accuracy = 0\n",
    "            valid_loss = 0\n",
    "\n",
    "            with torch.no_grad():\n",
    "\n",
    "                for inputs, labels in validation_loader:\n",
    "\n",
    "                    # VALIDATION LOOP\n",
    "\n",
    "                    inputs, labels = inputs.float(), labels.float()\n",
    "                    inputs, labels = inputs.to(device), labels.to(device)\n",
    "\n",
    "                    outputs = model(inputs)\n",
    "\n",
    "                    loss_valid = criterion(outputs, labels.long())\n",
    "                    valid_loss += loss_valid.item()\n",
    "                    \n",
    "                    labels = labels.cpu()\n",
    "                    outputs = outputs.cpu()\n",
    "                    # _, outputs = torch.max(outputs.data, 1)\n",
    "                    \n",
    "                    accuracy += r2_score(labels, outputs)\n",
    "                    #top_p, top_class = outputs.topk(1, dim=1)\n",
    "                    #equals = top_class == labels.view(*top_class.shape)\n",
    "                    #accuracy += torch.mean(equals.type(torch.FloatTensor)).item()\n",
    "                    \n",
    "                overall_accuracy = (accuracy * 100) / len(validation_loader)\n",
    "                if overall_accuracy > best_model_r2:\n",
    "                    best_model_r2 = overall_accuracy\n",
    "                    torch.save(model, 'test.pth')\n",
    "                print(\n",
    "                    f\"Train loss: {running_loss / steps:.4f}.. \"\n",
    "                    f\"Valid loss: {valid_loss / len(validation_loader):.4f}.. \"\n",
    "                    f\"Valid accuracy: {(accuracy * 100) / len(validation_loader):.5f}..\")\n",
    "\n",
    "            running_loss = 0\n",
    "            steps = 0\n",
    "            model.train()\n",
    "\n",
    "print('Training finished!')\n",
    "print('Training lasted: ', time.time() - start)\n"
   ]
  },
  {
   "cell_type": "code",
   "execution_count": null,
   "id": "critical-diagnosis",
   "metadata": {},
   "outputs": [],
   "source": [
    "summary(model)"
   ]
  },
  {
   "cell_type": "code",
   "execution_count": 44,
   "id": "approximate-surfing",
   "metadata": {},
   "outputs": [],
   "source": [
    "outputs = model(torch.Tensor([0.5,0.5,0.5]).to(device))\n"
   ]
  }
 ],
 "metadata": {
  "kernelspec": {
   "display_name": "Python 3",
   "language": "python",
   "name": "python3"
  },
  "language_info": {
   "codemirror_mode": {
    "name": "ipython",
    "version": 3
   },
   "file_extension": ".py",
   "mimetype": "text/x-python",
   "name": "python",
   "nbconvert_exporter": "python",
   "pygments_lexer": "ipython3",
   "version": "3.8.6"
  }
 },
 "nbformat": 4,
 "nbformat_minor": 5
}
